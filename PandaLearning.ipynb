{
 "cells": [
  {
   "cell_type": "code",
   "execution_count": 1,
   "metadata": {},
   "outputs": [],
   "source": [
    "numbers = [15,16,18,19,22,24,29,30,34]"
   ]
  },
  {
   "cell_type": "code",
   "execution_count": 2,
   "metadata": {},
   "outputs": [],
   "source": [
    "average = sum(numbers)/len(numbers)"
   ]
  },
  {
   "cell_type": "code",
   "execution_count": 6,
   "metadata": {},
   "outputs": [
    {
     "name": "stdout",
     "output_type": "stream",
     "text": [
      "The mean is 23.0\n"
     ]
    }
   ],
   "source": [
    "print(\"The mean is \" + str(average))"
   ]
  },
  {
   "cell_type": "code",
   "execution_count": 2,
   "metadata": {},
   "outputs": [
    {
     "name": "stdout",
     "output_type": "stream",
     "text": [
      "   Survived  Pclass                                               Name  \\\n",
      "0         0       3                             Mr. Owen Harris Braund   \n",
      "1         1       1  Mrs. John Bradley (Florence Briggs Thayer) Cum...   \n",
      "2         1       3                              Miss. Laina Heikkinen   \n",
      "3         1       1        Mrs. Jacques Heath (Lily May Peel) Futrelle   \n",
      "4         0       3                            Mr. William Henry Allen   \n",
      "\n",
      "      Sex   Age  Siblings/Spouses Aboard  Parents/Children Aboard     Fare  \n",
      "0    male  22.0                        1                        0   7.2500  \n",
      "1  female  38.0                        1                        0  71.2833  \n",
      "2  female  26.0                        0                        0   7.9250  \n",
      "3  female  35.0                        1                        0  53.1000  \n",
      "4    male  35.0                        0                        0   8.0500  \n"
     ]
    }
   ],
   "source": [
    "import pandas as pd\n",
    "df = pd.read_csv('C://Users/Lester/titanic.csv')\n",
    "print(df.head())"
   ]
  },
  {
   "cell_type": "code",
   "execution_count": 21,
   "metadata": {},
   "outputs": [
    {
     "name": "stdout",
     "output_type": "stream",
     "text": [
      "         Survived      Pclass         Age  Siblings/Spouses Aboard  \\\n",
      "count  887.000000  887.000000  887.000000               887.000000   \n",
      "mean     0.385569    2.305524   29.471443                 0.525366   \n",
      "std      0.487004    0.836662   14.121908                 1.104669   \n",
      "min      0.000000    1.000000    0.420000                 0.000000   \n",
      "25%      0.000000    2.000000   20.250000                 0.000000   \n",
      "50%      0.000000    3.000000   28.000000                 0.000000   \n",
      "75%      1.000000    3.000000   38.000000                 1.000000   \n",
      "max      1.000000    3.000000   80.000000                 8.000000   \n",
      "\n",
      "       Parents/Children Aboard       Fare  \n",
      "count               887.000000  887.00000  \n",
      "mean                  0.383315   32.30542  \n",
      "std                   0.807466   49.78204  \n",
      "min                   0.000000    0.00000  \n",
      "25%                   0.000000    7.92500  \n",
      "50%                   0.000000   14.45420  \n",
      "75%                   0.000000   31.13750  \n",
      "max                   6.000000  512.32920  \n"
     ]
    }
   ],
   "source": [
    "print(df.describe())"
   ]
  },
  {
   "cell_type": "code",
   "execution_count": 22,
   "metadata": {},
   "outputs": [
    {
     "name": "stdout",
     "output_type": "stream",
     "text": [
      "0       7.2500\n",
      "1      71.2833\n",
      "2       7.9250\n",
      "3      53.1000\n",
      "4       8.0500\n",
      "        ...   \n",
      "882    13.0000\n",
      "883    30.0000\n",
      "884    23.4500\n",
      "885    30.0000\n",
      "886     7.7500\n",
      "Name: Fare, Length: 887, dtype: float64\n"
     ]
    }
   ],
   "source": [
    "col= df['Fare']\n",
    "print(col)"
   ]
  },
  {
   "cell_type": "code",
   "execution_count": 24,
   "metadata": {},
   "outputs": [
    {
     "name": "stdout",
     "output_type": "stream",
     "text": [
      "    Age     Sex  Survived\n",
      "0  22.0    male         0\n",
      "1  38.0  female         1\n",
      "2  26.0  female         1\n",
      "3  35.0  female         1\n",
      "4  35.0    male         0\n"
     ]
    }
   ],
   "source": [
    "small_df = df[['Age','Sex','Survived']]\n",
    "print(small_df.head())"
   ]
  },
  {
   "cell_type": "code",
   "execution_count": 25,
   "metadata": {},
   "outputs": [
    {
     "name": "stdout",
     "output_type": "stream",
     "text": [
      "   Survived  Pclass                                               Name  \\\n",
      "0         0       3                             Mr. Owen Harris Braund   \n",
      "1         1       1  Mrs. John Bradley (Florence Briggs Thayer) Cum...   \n",
      "2         1       3                              Miss. Laina Heikkinen   \n",
      "3         1       1        Mrs. Jacques Heath (Lily May Peel) Futrelle   \n",
      "4         0       3                            Mr. William Henry Allen   \n",
      "\n",
      "      Sex   Age  Siblings/Spouses Aboard  Parents/Children Aboard     Fare  \\\n",
      "0    male  22.0                        1                        0   7.2500   \n",
      "1  female  38.0                        1                        0  71.2833   \n",
      "2  female  26.0                        0                        0   7.9250   \n",
      "3  female  35.0                        1                        0  53.1000   \n",
      "4    male  35.0                        0                        0   8.0500   \n",
      "\n",
      "    male  \n",
      "0   True  \n",
      "1  False  \n",
      "2  False  \n",
      "3  False  \n",
      "4   True  \n"
     ]
    }
   ],
   "source": [
    "df['male']=df['Sex']== 'male'\n",
    "print(df.head())"
   ]
  },
  {
   "cell_type": "code",
   "execution_count": 26,
   "metadata": {},
   "outputs": [
    {
     "name": "stdout",
     "output_type": "stream",
     "text": [
      "    Age     Sex  Survived   male\n",
      "0  22.0    male         0   True\n",
      "1  38.0  female         1  False\n",
      "2  26.0  female         1  False\n",
      "3  35.0  female         1  False\n",
      "4  35.0    male         0   True\n"
     ]
    }
   ],
   "source": [
    "big_df = df[['Age','Sex','Survived','male']]\n",
    "print(big_df.head())"
   ]
  },
  {
   "cell_type": "code",
   "execution_count": 27,
   "metadata": {},
   "outputs": [
    {
     "data": {
      "text/plain": [
       "array([  7.25  ,  71.2833,   7.925 ,  53.1   ,   8.05  ,   8.4583,\n",
       "        51.8625,  21.075 ,  11.1333,  30.0708,  16.7   ,  26.55  ,\n",
       "         8.05  ,  31.275 ,   7.8542,  16.    ,  29.125 ,  13.    ,\n",
       "        18.    ,   7.225 ,  26.    ,  13.    ,   8.0292,  35.5   ,\n",
       "        21.075 ,  31.3875,   7.225 , 263.    ,   7.8792,   7.8958,\n",
       "        27.7208, 146.5208,   7.75  ,  10.5   ,  82.1708,  52.    ,\n",
       "         7.2292,   8.05  ,  18.    ,  11.2417,   9.475 ,  21.    ,\n",
       "        41.5792,   7.8792,   8.05  ,  15.5   ,   7.75  ,  21.6792,\n",
       "        17.8   ,  39.6875,   7.8   ,  76.7292,  26.    ,  61.9792,\n",
       "        35.5   ,  10.5   ,   7.2292,  27.75  ,  46.9   ,   7.2292,\n",
       "        80.    ,  83.475 ,  27.9   ,  27.7208,  15.2458,  10.5   ,\n",
       "         8.1583,   7.925 ,   8.6625,  10.5   ,  46.9   ,  73.5   ,\n",
       "        14.4542,  56.4958,   7.65  ,   7.8958,   8.05  ,  29.    ,\n",
       "        12.475 ,   9.    ,   9.5   ,   7.7875,  47.1   ,  10.5   ,\n",
       "        15.85  ,  34.375 ,   8.05  , 263.    ,   8.05  ,   8.05  ,\n",
       "         7.8542,  61.175 ,  20.575 ,   7.25  ,   8.05  ,  34.6542,\n",
       "        63.3583,  23.    ,  26.    ,   7.8958,   7.8958,  77.2875,\n",
       "         8.6542,   7.925 ,   7.8958,   7.65  ,   7.775 ,   7.8958,\n",
       "        24.15  ,  52.    ,  14.4542,   8.05  ,   9.825 ,  14.4583,\n",
       "         7.925 ,   7.75  ,  21.    , 247.5208,  31.275 ,  73.5   ,\n",
       "         8.05  ,  30.0708,  13.    ,  77.2875,  11.2417,   7.75  ,\n",
       "         7.1417,  22.3583,   6.975 ,   7.8958,   7.05  ,  14.5   ,\n",
       "        26.    ,  13.    ,  15.0458,  26.2833,  53.1   ,   9.2167,\n",
       "        79.2   ,  15.2458,   7.75  ,  15.85  ,   6.75  ,  11.5   ,\n",
       "        36.75  ,   7.7958,  34.375 ,  26.    ,  13.    ,  12.525 ,\n",
       "        66.6   ,   8.05  ,  14.5   ,   7.3125,  61.3792,   7.7333,\n",
       "         8.05  ,   8.6625,  69.55  ,  16.1   ,  15.75  ,   7.775 ,\n",
       "         8.6625,  39.6875,  20.525 ,  55.    ,  27.9   ,  25.925 ,\n",
       "        56.4958,  33.5   ,  29.125 ,  11.1333,   7.925 ,  30.6958,\n",
       "         7.8542,  25.4667,  28.7125,  13.    ,   0.    ,  69.55  ,\n",
       "        15.05  ,  31.3875,  39.    ,  22.025 ,  50.    ,  15.5   ,\n",
       "        26.55  ,  15.5   ,   7.8958,  13.    ,  13.    ,   7.8542,\n",
       "        26.    ,  27.7208, 146.5208,   7.75  ,   8.4042,   7.75  ,\n",
       "        13.    ,   9.5   ,  69.55  ,   6.4958,   7.225 ,   8.05  ,\n",
       "        10.4625,  15.85  ,  18.7875,   7.75  ,  31.    ,   7.05  ,\n",
       "        21.    ,   7.25  ,  13.    ,   7.75  , 113.275 ,   7.925 ,\n",
       "        27.    ,  76.2917,  10.5   ,   8.05  ,  13.    ,   8.05  ,\n",
       "         7.8958,  90.    ,   9.35  ,  10.5   ,   7.25  ,  13.    ,\n",
       "        25.4667,  83.475 ,   7.775 ,  13.5   ,  31.3875,  10.5   ,\n",
       "         7.55  ,  26.    ,  26.25  ,  10.5   ,  12.275 ,  14.4542,\n",
       "        15.5   ,  10.5   ,   7.125 ,   7.225 ,  90.    ,   7.775 ,\n",
       "        14.5   ,  52.5542,  26.    ,   7.25  ,  10.4625,  26.55  ,\n",
       "        16.1   ,  20.2125,  15.2458,  79.2   ,  86.5   , 512.3292,\n",
       "        26.    ,  31.3875,  79.65  ,   0.    ,   7.75  ,  10.5   ,\n",
       "        39.6875,   7.775 , 153.4625, 135.6333,  31.    ,   0.    ,\n",
       "        19.5   ,  29.7   ,   7.75  ,  77.9583,   7.75  ,   0.    ,\n",
       "        29.125 ,  20.25  ,   7.75  ,   7.8542,   9.5   ,   8.05  ,\n",
       "        26.    ,   8.6625,   9.5   ,   7.8958,  13.    ,   7.75  ,\n",
       "        78.85  ,  91.0792,  12.875 ,   8.85  ,   7.8958,  27.7208,\n",
       "         7.2292, 151.55  ,  30.5   , 247.5208,   7.75  ,  23.25  ,\n",
       "         0.    ,  12.35  ,   8.05  , 151.55  , 110.8833, 108.9   ,\n",
       "        24.    ,  56.9292,  83.1583, 262.375 ,  26.    ,   7.8958,\n",
       "        26.25  ,   7.8542,  26.    ,  14.    , 164.8667, 134.5   ,\n",
       "         7.25  ,   7.8958,  12.35  ,  29.    ,  69.55  , 135.6333,\n",
       "         6.2375,  13.    ,  20.525 ,  57.9792,  23.25  ,  28.5   ,\n",
       "       153.4625,  18.    , 133.65  ,   7.8958,  66.6   , 134.5   ,\n",
       "         8.05  ,  35.5   ,  26.    , 263.    ,  13.    ,  13.    ,\n",
       "        13.    ,  13.    ,  13.    ,  16.1   ,  15.9   ,   8.6625,\n",
       "         9.225 ,  35.    ,   7.2292,  17.8   ,   7.225 ,   9.5   ,\n",
       "        55.    ,  13.    ,   7.8792,   7.8792,  27.9   ,  27.7208,\n",
       "        14.4542,   7.05  ,  15.5   ,   7.25  ,  75.25  ,   7.2292,\n",
       "         7.75  ,  69.3   ,  55.4417,   6.4958,   8.05  , 135.6333,\n",
       "        21.075 ,  82.1708,   7.25  , 211.5   ,   4.0125,   7.775 ,\n",
       "       227.525 ,  15.7417,   7.925 ,  52.    ,   7.8958,  73.5   ,\n",
       "        46.9   ,  13.    ,   7.7292,  12.    , 120.    ,   7.7958,\n",
       "         7.925 , 113.275 ,  16.7   ,   7.7958,   7.8542,  26.    ,\n",
       "        10.5   ,  12.65  ,   7.925 ,   8.05  ,   9.825 ,  15.85  ,\n",
       "         8.6625,  21.    ,   7.75  ,  18.75  ,   7.775 ,  25.4667,\n",
       "         7.8958,   6.8583,  90.    ,   0.    ,   7.925 ,   8.05  ,\n",
       "        32.5   ,  13.    ,  13.    ,  24.15  ,   7.7333,   7.875 ,\n",
       "        14.4   ,  20.2125,   7.25  ,  26.    ,  26.    ,   7.75  ,\n",
       "         8.05  ,  26.55  ,  16.1   ,  26.    ,   7.125 ,  55.9   ,\n",
       "       120.    ,  34.375 ,  18.75  , 263.    ,  10.5   ,  26.25  ,\n",
       "         9.5   ,   7.775 ,  13.    ,   8.1125,  81.8583,  19.5   ,\n",
       "        26.55  ,  19.2583,  30.5   ,  27.75  ,  19.9667,  27.75  ,\n",
       "        89.1042,   8.05  ,   7.8958,  26.55  ,  51.8625,  10.5   ,\n",
       "         7.75  ,  26.55  ,   8.05  ,  38.5   ,  13.    ,   8.05  ,\n",
       "         7.05  ,   0.    ,  26.55  ,   7.725 ,  19.2583,   7.25  ,\n",
       "         8.6625,  27.75  ,  13.7917,   9.8375,  52.    ,  21.    ,\n",
       "         7.0458,   7.5208,  12.2875,  46.9   ,   0.    ,   8.05  ,\n",
       "         9.5875,  91.0792,  25.4667,  90.    ,  29.7   ,   8.05  ,\n",
       "        15.9   ,  19.9667,   7.25  ,  30.5   ,  49.5042,   8.05  ,\n",
       "        14.4583,  78.2667,  15.1   , 151.55  ,   7.7958,   8.6625,\n",
       "         7.75  ,   7.6292,   9.5875,  86.5   , 108.9   ,  26.    ,\n",
       "        26.55  ,  22.525 ,  56.4958,   7.75  ,   8.05  ,  26.2875,\n",
       "        59.4   ,   7.4958,  34.0208,  10.5   ,  24.15  ,  26.    ,\n",
       "         7.8958,  93.5   ,   7.8958,   7.225 ,  57.9792,   7.2292,\n",
       "         7.75  ,  10.5   , 221.7792,   7.925 ,  11.5   ,  26.    ,\n",
       "         7.2292,   7.2292,  22.3583,   8.6625,  26.25  ,  26.55  ,\n",
       "       106.425 ,  14.5   ,  49.5   ,  71.    ,  31.275 ,  31.275 ,\n",
       "        26.    , 106.425 ,  26.    ,  26.    ,  13.8625,  20.525 ,\n",
       "        36.75  , 110.8833,  26.    ,   7.8292,   7.225 ,   7.775 ,\n",
       "        26.55  ,  39.6   , 227.525 ,  79.65  ,  17.4   ,   7.75  ,\n",
       "         7.8958,  13.5   ,   8.05  ,   8.05  ,  24.15  ,   7.8958,\n",
       "        21.075 ,   7.2292,   7.8542,  10.5   ,  51.4792,  26.3875,\n",
       "         7.75  ,   8.05  ,  14.5   ,  13.    ,  55.9   ,  14.4583,\n",
       "         7.925 ,  30.    , 110.8833,  26.    ,  40.125 ,   8.7125,\n",
       "        79.65  ,  15.    ,  79.2   ,   8.05  ,   8.05  ,   7.125 ,\n",
       "        78.2667,   7.25  ,   7.75  ,  26.    ,  24.15  ,  33.    ,\n",
       "         0.    ,   7.225 ,  56.9292,  27.    ,   7.8958,  42.4   ,\n",
       "         8.05  ,  26.55  ,  15.55  ,   7.8958,  30.5   ,  41.5792,\n",
       "       153.4625,  31.275 ,   7.05  ,  15.5   ,   7.75  ,   8.05  ,\n",
       "        65.    ,  14.4   ,  16.1   ,  39.    ,  10.5   ,  14.4542,\n",
       "        52.5542,  15.7417,   7.8542,  16.1   ,  32.3208,  12.35  ,\n",
       "        77.9583,   7.8958,   7.7333,  30.    ,   7.0542,  30.5   ,\n",
       "         0.    ,  27.9   ,  13.    ,   7.925 ,  26.25  ,  39.6875,\n",
       "        16.1   ,   7.8542,  69.3   ,  27.9   ,  56.4958,  19.2583,\n",
       "        76.7292,   7.8958,  35.5   ,   7.55  ,   7.55  ,   7.8958,\n",
       "        23.    ,   8.4333,   7.8292,   6.75  ,  73.5   ,   7.8958,\n",
       "        15.5   ,  13.    , 113.275 , 133.65  ,   7.225 ,  25.5875,\n",
       "         7.4958,   7.925 ,  73.5   ,  13.    ,   7.775 ,   8.05  ,\n",
       "        52.    ,  39.    ,  52.    ,  10.5   ,  13.    ,   0.    ,\n",
       "         7.775 ,   8.05  ,   9.8417,  46.9   , 512.3292,   8.1375,\n",
       "        76.7292,   9.225 ,  46.9   ,  39.    ,  41.5792,  39.6875,\n",
       "        10.1708,   7.7958, 211.3375,  57.    ,  13.4167,  56.4958,\n",
       "         7.225 ,  26.55  ,  13.5   ,   8.05  ,   7.7333, 110.8833,\n",
       "         7.65  , 227.525 ,  26.2875,  14.4542,   7.7417,   7.8542,\n",
       "        26.    ,  13.5   ,  26.2875, 151.55  ,  15.2458,  49.5042,\n",
       "        26.55  ,  52.    ,   9.4833,  13.    ,   7.65  , 227.525 ,\n",
       "        10.5   ,   7.775 ,  33.    ,   7.0542,  13.    ,  13.    ,\n",
       "        53.1   ,   8.6625,  21.    ,   7.7375,  26.    ,   7.925 ,\n",
       "       211.3375,  18.7875,   0.    ,  13.    ,  13.    ,  16.1   ,\n",
       "        34.375 , 512.3292,   7.8958,   7.8958,  30.    ,  78.85  ,\n",
       "       262.375 ,  16.1   ,   7.925 ,  71.    ,  20.25  ,  13.    ,\n",
       "        53.1   ,   7.75  ,  23.    ,  12.475 ,   9.5   ,   7.8958,\n",
       "        65.    ,  14.5   ,   7.7958,  11.5   ,   8.05  ,  86.5   ,\n",
       "        14.5   ,   7.125 ,   7.2292, 120.    ,   7.775 ,  77.9583,\n",
       "        39.6   ,   7.75  ,  24.15  ,   8.3625,   9.5   ,   7.8542,\n",
       "        10.5   ,   7.225 ,  23.    ,   7.75  ,   7.75  ,  12.475 ,\n",
       "         7.7375, 211.3375,   7.2292,  57.    ,  30.    ,  23.45  ,\n",
       "         7.05  ,   7.25  ,   7.4958,  29.125 ,  20.575 ,  79.2   ,\n",
       "         7.75  ,  26.    ,  69.55  ,  30.6958,   7.8958,  13.    ,\n",
       "        25.9292,   8.6833,   7.2292,  24.15  ,  13.    ,  26.25  ,\n",
       "       120.    ,   8.5167,   6.975 ,   7.775 ,   0.    ,   7.775 ,\n",
       "        13.    ,  53.1   ,   7.8875,  24.15  ,  10.5   ,  31.275 ,\n",
       "         8.05  ,   0.    ,   7.925 ,  37.0042,   6.45  ,  27.9   ,\n",
       "        93.5   ,   8.6625,   0.    ,  12.475 ,  39.6875,   6.95  ,\n",
       "        56.4958,  37.0042,   7.75  ,  80.    ,  14.4542,  18.75  ,\n",
       "         7.2292,   7.8542,   8.3   ,  83.1583,   8.6625,   8.05  ,\n",
       "        56.4958,  29.7   ,   7.925 ,  10.5   ,  31.    ,   6.4375,\n",
       "         8.6625,   7.55  ,  69.55  ,   7.8958,  33.    ,  89.1042,\n",
       "        31.275 ,   7.775 ,  15.2458,  39.4   ,  26.    ,   9.35  ,\n",
       "       164.8667,  26.55  ,  19.2583,   7.2292,  14.1083,  11.5   ,\n",
       "        25.9292,  69.55  ,  13.    ,  13.    ,  13.8583,  50.4958,\n",
       "         9.5   ,  11.1333,   7.8958,  52.5542,   5.    ,   9.    ,\n",
       "        24.    ,   7.225 ,   9.8458,   7.8958,   7.8958,  83.1583,\n",
       "        26.    ,   7.8958,  10.5167,  10.5   ,   7.05  ,  29.125 ,\n",
       "        13.    ,  30.    ,  23.45  ,  30.    ,   7.75  ])"
      ]
     },
     "execution_count": 27,
     "metadata": {},
     "output_type": "execute_result"
    }
   ],
   "source": [
    "df['Fare'].values"
   ]
  },
  {
   "cell_type": "code",
   "execution_count": 28,
   "metadata": {},
   "outputs": [
    {
     "data": {
      "text/plain": [
       "array(['male', 'female', 'female', 'female', 'male', 'male', 'male',\n",
       "       'male', 'female', 'female', 'female', 'female', 'male', 'male',\n",
       "       'female', 'female', 'male', 'male', 'female', 'female', 'male',\n",
       "       'male', 'female', 'male', 'female', 'female', 'male', 'male',\n",
       "       'female', 'male', 'male', 'female', 'female', 'male', 'male',\n",
       "       'male', 'male', 'male', 'female', 'female', 'female', 'female',\n",
       "       'female', 'female', 'male', 'male', 'female', 'male', 'female',\n",
       "       'male', 'male', 'female', 'female', 'male', 'male', 'female',\n",
       "       'male', 'female', 'male', 'male', 'female', 'male', 'male', 'male',\n",
       "       'male', 'female', 'male', 'female', 'male', 'male', 'female',\n",
       "       'male', 'male', 'male', 'male', 'male', 'male', 'male', 'female',\n",
       "       'male', 'male', 'female', 'male', 'female', 'female', 'male',\n",
       "       'male', 'female', 'male', 'male', 'male', 'male', 'male', 'male',\n",
       "       'male', 'male', 'male', 'female', 'male', 'female', 'male', 'male',\n",
       "       'male', 'male', 'male', 'female', 'male', 'male', 'female', 'male',\n",
       "       'female', 'male', 'female', 'female', 'male', 'male', 'male',\n",
       "       'male', 'female', 'male', 'male', 'male', 'female', 'male', 'male',\n",
       "       'male', 'male', 'female', 'male', 'male', 'male', 'female',\n",
       "       'female', 'male', 'male', 'female', 'male', 'male', 'male',\n",
       "       'female', 'female', 'female', 'male', 'male', 'male', 'male',\n",
       "       'female', 'male', 'male', 'male', 'female', 'male', 'male', 'male',\n",
       "       'male', 'female', 'male', 'male', 'male', 'male', 'female', 'male',\n",
       "       'male', 'male', 'male', 'female', 'female', 'male', 'male', 'male',\n",
       "       'male', 'female', 'male', 'male', 'male', 'male', 'female', 'male',\n",
       "       'male', 'female', 'male', 'male', 'male', 'female', 'male',\n",
       "       'female', 'male', 'male', 'male', 'female', 'male', 'female',\n",
       "       'male', 'female', 'female', 'male', 'male', 'female', 'female',\n",
       "       'male', 'male', 'male', 'male', 'male', 'female', 'male', 'male',\n",
       "       'female', 'male', 'male', 'female', 'male', 'male', 'male',\n",
       "       'female', 'female', 'male', 'female', 'male', 'male', 'male',\n",
       "       'male', 'male', 'male', 'male', 'male', 'male', 'male', 'female',\n",
       "       'female', 'male', 'male', 'female', 'male', 'female', 'male',\n",
       "       'female', 'male', 'male', 'female', 'female', 'male', 'male',\n",
       "       'male', 'male', 'female', 'female', 'male', 'male', 'male',\n",
       "       'female', 'male', 'male', 'female', 'female', 'female', 'female',\n",
       "       'female', 'female', 'male', 'male', 'male', 'female', 'male',\n",
       "       'male', 'male', 'female', 'female', 'male', 'male', 'female',\n",
       "       'male', 'female', 'female', 'female', 'male', 'male', 'female',\n",
       "       'male', 'male', 'male', 'male', 'male', 'male', 'male', 'male',\n",
       "       'male', 'female', 'female', 'female', 'male', 'female', 'male',\n",
       "       'male', 'male', 'female', 'male', 'female', 'female', 'male',\n",
       "       'male', 'female', 'male', 'male', 'female', 'female', 'male',\n",
       "       'female', 'female', 'female', 'female', 'male', 'male', 'female',\n",
       "       'female', 'male', 'female', 'female', 'male', 'male', 'female',\n",
       "       'female', 'male', 'female', 'male', 'female', 'female', 'female',\n",
       "       'female', 'male', 'male', 'male', 'female', 'male', 'male',\n",
       "       'female', 'male', 'male', 'male', 'female', 'male', 'male', 'male',\n",
       "       'female', 'female', 'female', 'male', 'male', 'male', 'male',\n",
       "       'male', 'male', 'male', 'male', 'female', 'female', 'female',\n",
       "       'female', 'male', 'male', 'female', 'male', 'male', 'male',\n",
       "       'female', 'female', 'female', 'female', 'male', 'male', 'male',\n",
       "       'male', 'female', 'female', 'female', 'male', 'male', 'male',\n",
       "       'female', 'female', 'male', 'female', 'male', 'male', 'male',\n",
       "       'female', 'male', 'female', 'male', 'male', 'male', 'female',\n",
       "       'female', 'male', 'female', 'male', 'male', 'female', 'male',\n",
       "       'male', 'female', 'male', 'female', 'male', 'male', 'male', 'male',\n",
       "       'female', 'male', 'male', 'female', 'male', 'male', 'female',\n",
       "       'female', 'female', 'male', 'female', 'male', 'male', 'female',\n",
       "       'male', 'male', 'female', 'female', 'male', 'male', 'male',\n",
       "       'female', 'female', 'male', 'male', 'female', 'female', 'female',\n",
       "       'male', 'male', 'female', 'male', 'male', 'female', 'male', 'male',\n",
       "       'female', 'male', 'female', 'male', 'male', 'male', 'male', 'male',\n",
       "       'male', 'male', 'male', 'female', 'female', 'male', 'male', 'male',\n",
       "       'male', 'male', 'male', 'male', 'male', 'male', 'male', 'female',\n",
       "       'male', 'male', 'female', 'female', 'female', 'male', 'male',\n",
       "       'male', 'male', 'female', 'male', 'male', 'male', 'female', 'male',\n",
       "       'female', 'female', 'male', 'male', 'male', 'male', 'male', 'male',\n",
       "       'male', 'male', 'male', 'female', 'male', 'female', 'male', 'male',\n",
       "       'female', 'female', 'female', 'female', 'male', 'female', 'male',\n",
       "       'male', 'male', 'male', 'male', 'male', 'female', 'male', 'male',\n",
       "       'female', 'male', 'female', 'male', 'female', 'male', 'male',\n",
       "       'female', 'male', 'male', 'female', 'male', 'male', 'male',\n",
       "       'female', 'male', 'male', 'female', 'female', 'female', 'male',\n",
       "       'female', 'male', 'female', 'female', 'female', 'female', 'male',\n",
       "       'male', 'male', 'female', 'male', 'male', 'male', 'male', 'male',\n",
       "       'male', 'male', 'female', 'male', 'female', 'male', 'female',\n",
       "       'female', 'male', 'male', 'male', 'male', 'female', 'male', 'male',\n",
       "       'female', 'male', 'male', 'male', 'female', 'male', 'female',\n",
       "       'male', 'male', 'female', 'female', 'female', 'male', 'female',\n",
       "       'female', 'male', 'male', 'male', 'female', 'male', 'male', 'male',\n",
       "       'male', 'male', 'female', 'male', 'female', 'male', 'male',\n",
       "       'female', 'male', 'male', 'male', 'female', 'male', 'male', 'male',\n",
       "       'male', 'male', 'male', 'male', 'female', 'female', 'female',\n",
       "       'male', 'female', 'male', 'male', 'female', 'male', 'female',\n",
       "       'female', 'male', 'male', 'male', 'male', 'male', 'male', 'male',\n",
       "       'male', 'female', 'male', 'male', 'male', 'male', 'male', 'male',\n",
       "       'female', 'female', 'male', 'male', 'female', 'male', 'male',\n",
       "       'female', 'female', 'male', 'female', 'male', 'male', 'male',\n",
       "       'male', 'female', 'male', 'female', 'male', 'female', 'female',\n",
       "       'male', 'male', 'female', 'male', 'male', 'male', 'male', 'male',\n",
       "       'male', 'male', 'male', 'male', 'male', 'male', 'female', 'female',\n",
       "       'male', 'male', 'male', 'male', 'male', 'male', 'female', 'female',\n",
       "       'male', 'female', 'male', 'male', 'male', 'male', 'male', 'male',\n",
       "       'male', 'male', 'female', 'male', 'female', 'male', 'male', 'male',\n",
       "       'male', 'male', 'female', 'male', 'male', 'female', 'male',\n",
       "       'female', 'male', 'male', 'male', 'female', 'male', 'female',\n",
       "       'male', 'female', 'male', 'male', 'male', 'male', 'male', 'female',\n",
       "       'female', 'male', 'female', 'male', 'male', 'male', 'male', 'male',\n",
       "       'female', 'female', 'male', 'female', 'female', 'male', 'male',\n",
       "       'male', 'male', 'male', 'female', 'male', 'male', 'male', 'male',\n",
       "       'male', 'female', 'male', 'male', 'male', 'male', 'female', 'male',\n",
       "       'male', 'female', 'male', 'male', 'male', 'female', 'male', 'male',\n",
       "       'male', 'male', 'female', 'male', 'male', 'male', 'female', 'male',\n",
       "       'female', 'male', 'female', 'male', 'male', 'male', 'male',\n",
       "       'female', 'male', 'female', 'male', 'male', 'female', 'male',\n",
       "       'female', 'female', 'female', 'male', 'male', 'male', 'male',\n",
       "       'female', 'male', 'male', 'male', 'male', 'male', 'female', 'male',\n",
       "       'male', 'male', 'female', 'female', 'male', 'female', 'male',\n",
       "       'female', 'male', 'male', 'male', 'male', 'male', 'female', 'male',\n",
       "       'female', 'male', 'male', 'male', 'female', 'male', 'male',\n",
       "       'female', 'male', 'male', 'male', 'female', 'male', 'male',\n",
       "       'female', 'male', 'male', 'male', 'male', 'male', 'female',\n",
       "       'female', 'male', 'male', 'male', 'male', 'female', 'male', 'male',\n",
       "       'male', 'male', 'male', 'male', 'female', 'male', 'male', 'male',\n",
       "       'male', 'male', 'male', 'female', 'male', 'male', 'female',\n",
       "       'female', 'female', 'female', 'female', 'male', 'female', 'male',\n",
       "       'male', 'male', 'female', 'female', 'male', 'female', 'female',\n",
       "       'male', 'male', 'male', 'male', 'female', 'male', 'male', 'female',\n",
       "       'female', 'male', 'male', 'male', 'female', 'female', 'male',\n",
       "       'female', 'male', 'male', 'female', 'male', 'female', 'female',\n",
       "       'male', 'male'], dtype=object)"
      ]
     },
     "execution_count": 28,
     "metadata": {},
     "output_type": "execute_result"
    }
   ],
   "source": [
    "df['Sex'].values"
   ]
  },
  {
   "cell_type": "code",
   "execution_count": 31,
   "metadata": {
    "scrolled": true
   },
   "outputs": [
    {
     "data": {
      "text/plain": [
       "array([22.  , 38.  , 26.  , 35.  , 35.  , 27.  , 54.  ,  2.  , 27.  ,\n",
       "       14.  ,  4.  , 58.  , 20.  , 39.  , 14.  , 55.  ,  2.  , 23.  ,\n",
       "       31.  , 22.  , 35.  , 34.  , 15.  , 28.  ,  8.  , 38.  , 26.  ,\n",
       "       19.  , 24.  , 23.  , 40.  , 48.  , 18.  , 66.  , 28.  , 42.  ,\n",
       "       18.  , 21.  , 18.  , 14.  , 40.  , 27.  ,  3.  , 19.  , 30.  ,\n",
       "       20.  , 27.  , 16.  , 18.  ,  7.  , 21.  , 49.  , 29.  , 65.  ,\n",
       "       46.  , 21.  , 28.5 ,  5.  , 11.  , 22.  , 38.  , 45.  ,  4.  ,\n",
       "       64.  ,  7.  , 29.  , 19.  , 17.  , 26.  , 32.  , 16.  , 21.  ,\n",
       "       26.  , 32.  , 25.  , 23.  , 28.  ,  0.83, 30.  , 22.  , 29.  ,\n",
       "       31.  , 28.  , 17.  , 33.  , 16.  , 20.  , 23.  , 24.  , 29.  ,\n",
       "       20.  , 46.  , 26.  , 59.  , 22.  , 71.  , 23.  , 34.  , 34.  ,\n",
       "       28.  , 29.  , 21.  , 33.  , 37.  , 28.  , 21.  , 29.  , 38.  ,\n",
       "       28.  , 47.  , 14.5 , 22.  , 20.  , 17.  , 21.  , 70.5 , 29.  ,\n",
       "       24.  ,  2.  , 21.  , 19.  , 32.5 , 32.5 , 54.  , 12.  , 19.  ,\n",
       "       24.  ,  2.  , 45.  , 33.  , 20.  , 47.  , 29.  , 25.  , 23.  ,\n",
       "       19.  , 37.  , 16.  , 24.  , 40.  , 22.  , 24.  , 19.  , 18.  ,\n",
       "       19.  , 27.  ,  9.  , 36.5 , 42.  , 51.  , 22.  , 55.5 , 40.5 ,\n",
       "       27.  , 51.  , 16.  , 30.  , 37.  ,  5.  , 44.  , 40.  , 26.  ,\n",
       "       17.  ,  1.  ,  9.  , 48.  , 45.  , 60.  , 28.  , 61.  ,  4.  ,\n",
       "        1.  , 21.  , 56.  , 18.  ,  5.  , 50.  , 30.  , 36.  ,  8.  ,\n",
       "       39.  ,  9.  ,  1.  ,  4.  , 39.  , 26.  , 45.  , 40.  , 36.  ,\n",
       "       32.  , 19.  , 19.  ,  3.  , 44.  , 58.  , 28.  , 42.  , 21.  ,\n",
       "       24.  , 28.  , 17.  , 34.  , 45.5 , 18.  ,  2.  , 32.  , 26.  ,\n",
       "       16.  , 40.  , 24.  , 35.  , 22.  , 30.  , 22.  , 31.  , 27.  ,\n",
       "       42.  , 32.  , 30.  , 16.  , 27.  , 51.  , 22.  , 38.  , 22.  ,\n",
       "       19.  , 20.5 , 18.  , 12.  , 35.  , 29.  , 59.  ,  5.  , 24.  ,\n",
       "       21.  , 44.  ,  8.  , 19.  , 33.  , 19.  , 18.  , 29.  , 22.  ,\n",
       "       30.  , 44.  , 25.  , 24.  , 37.  , 54.  , 18.  , 29.  , 62.  ,\n",
       "       30.  , 41.  , 29.  , 38.  , 30.  , 35.  , 50.  ,  3.  , 52.  ,\n",
       "       40.  , 21.  , 36.  , 16.  , 25.  , 58.  , 35.  , 28.  , 25.  ,\n",
       "       41.  , 37.  , 33.  , 63.  , 45.  , 21.  ,  7.  , 35.  , 65.  ,\n",
       "       28.  , 16.  , 19.  , 57.  , 33.  , 30.  , 22.  , 42.  , 22.  ,\n",
       "       26.  , 19.  , 36.  , 24.  , 24.  , 30.  , 23.5 ,  2.  , 47.  ,\n",
       "       50.  , 20.  , 24.  , 19.  , 46.  , 28.  ,  0.92, 42.  , 17.  ,\n",
       "       30.  , 30.  , 24.  , 18.  , 26.  , 28.  , 43.  , 26.  , 24.  ,\n",
       "       54.  , 31.  , 40.  , 22.  , 27.  , 30.  , 22.  , 20.  , 36.  ,\n",
       "       61.  , 36.  , 31.  , 16.  , 28.  , 45.5 , 38.  , 16.  , 42.  ,\n",
       "       30.  , 29.  , 41.  , 45.  , 45.  ,  2.  , 24.  , 28.  , 25.  ,\n",
       "       36.  , 24.  , 40.  , 34.  ,  3.  , 42.  , 23.  , 43.  , 15.  ,\n",
       "       25.  , 23.  , 28.  , 22.  , 38.  , 22.  , 23.  , 40.  , 29.  ,\n",
       "       45.  , 35.  , 27.  , 30.  , 60.  , 35.  , 22.  , 24.  , 25.  ,\n",
       "       18.  , 19.  , 22.  ,  3.  , 25.  , 22.  , 27.  , 20.  , 19.  ,\n",
       "       42.  ,  1.  , 32.  , 35.  , 27.  , 18.  ,  1.  , 36.  , 19.  ,\n",
       "       17.  , 36.  , 21.  , 28.  , 23.  , 24.  , 22.  , 31.  , 46.  ,\n",
       "       23.  , 28.  , 39.  , 26.  , 21.  , 28.  , 20.  , 34.  , 51.  ,\n",
       "        3.  , 21.  ,  3.  , 42.  , 27.  , 33.  , 22.  , 44.  , 32.  ,\n",
       "       34.  , 18.  , 30.  , 10.  , 21.  , 29.  , 28.  , 18.  , 54.  ,\n",
       "       28.  , 19.  , 28.  , 32.  , 28.  , 33.  , 42.  , 17.  , 50.  ,\n",
       "       14.  , 21.  , 24.  , 64.  , 31.  , 45.  , 20.  , 25.  , 28.  ,\n",
       "       29.  ,  4.  , 13.  , 34.  ,  5.  , 52.  , 36.  , 28.  , 30.  ,\n",
       "       49.  , 24.  , 29.  , 65.  , 41.  , 50.  , 17.  , 48.  , 34.  ,\n",
       "       47.  , 48.  , 34.  , 38.  , 21.  , 56.  , 22.  ,  0.75, 39.  ,\n",
       "       38.  , 33.  , 23.  , 22.  , 40.  , 34.  , 29.  , 22.  ,  2.  ,\n",
       "        9.  , 37.  , 50.  , 63.  , 25.  ,  8.  , 35.  , 58.  , 30.  ,\n",
       "        9.  , 19.  , 21.  , 55.  , 71.  , 21.  , 26.  , 54.  , 55.  ,\n",
       "       25.  , 24.  , 17.  , 21.  , 21.  , 37.  , 16.  , 18.  , 33.  ,\n",
       "       37.  , 28.  , 26.  , 29.  , 66.  , 36.  , 54.  , 24.  , 47.  ,\n",
       "       34.  , 30.  , 36.  , 32.  , 30.  , 22.  , 35.  , 44.  , 18.  ,\n",
       "       40.5 , 50.  , 49.  , 39.  , 23.  ,  2.  , 17.  , 17.  , 24.  ,\n",
       "       30.  ,  7.  , 45.  , 30.  , 69.  , 22.  , 36.  ,  9.  , 11.  ,\n",
       "       32.  , 50.  , 64.  , 19.  , 27.  , 33.  ,  8.  , 17.  , 27.  ,\n",
       "       21.  , 22.  , 22.  , 62.  , 48.  , 45.  , 39.  , 36.  , 30.  ,\n",
       "       40.  , 28.  , 40.  , 62.  , 24.  , 19.  , 29.  , 28.  , 32.  ,\n",
       "       62.  , 53.  , 36.  , 22.  , 16.  , 19.  , 34.  , 39.  , 18.  ,\n",
       "       32.  , 25.  , 39.  , 54.  , 36.  , 16.  , 18.  , 47.  , 60.  ,\n",
       "       22.  , 22.  , 35.  , 52.  , 47.  , 40.  , 37.  , 36.  , 31.  ,\n",
       "       49.  , 18.  , 49.  , 24.  , 42.  , 37.  , 44.  , 35.  , 36.  ,\n",
       "       30.  , 27.  , 22.  , 40.  , 39.  , 21.  , 18.  , 22.  , 35.  ,\n",
       "       24.  , 34.  , 26.  ,  4.  , 26.  , 27.  , 42.  , 20.  , 21.  ,\n",
       "       21.  , 61.  , 57.  , 21.  , 26.  , 18.  , 80.  , 51.  , 32.  ,\n",
       "       30.  ,  9.  , 28.  , 32.  , 31.  , 41.  , 37.  , 20.  , 24.  ,\n",
       "        2.  , 32.  ,  0.75, 48.  , 19.  , 56.  , 21.  , 23.  , 23.  ,\n",
       "       18.  , 21.  , 16.  , 18.  , 24.  , 27.  , 32.  , 23.  , 58.  ,\n",
       "       50.  , 40.  , 47.  , 36.  , 20.  , 32.  , 25.  , 49.  , 43.  ,\n",
       "       48.  , 40.  , 31.  , 70.  , 31.  , 19.  , 18.  , 24.5 , 18.  ,\n",
       "       43.  , 36.  , 28.  , 27.  , 20.  , 14.  , 60.  , 25.  , 14.  ,\n",
       "       19.  , 18.  , 15.  , 31.  ,  4.  , 37.  , 25.  , 60.  , 52.  ,\n",
       "       44.  , 19.  , 49.  , 42.  , 18.  , 35.  , 18.  , 25.  , 26.  ,\n",
       "       39.  , 45.  , 42.  , 22.  ,  4.  , 24.  , 41.  , 48.  , 29.  ,\n",
       "       52.  , 19.  , 38.  , 27.  , 33.  ,  6.  , 17.  , 34.  , 50.  ,\n",
       "       27.  , 20.  , 30.  , 28.  , 25.  , 25.  , 29.  , 11.  , 41.  ,\n",
       "       23.  , 23.  , 28.5 , 48.  , 35.  , 20.  , 32.  , 45.  , 36.  ,\n",
       "       21.  , 24.  , 31.  , 70.  , 16.  , 30.  , 19.  , 31.  ,  4.  ,\n",
       "        6.  , 33.  , 23.  , 48.  ,  0.67, 28.  , 18.  , 34.  , 33.  ,\n",
       "       23.  , 41.  , 20.  , 36.  , 16.  , 51.  , 46.  , 30.5 , 28.  ,\n",
       "       32.  , 24.  , 48.  , 57.  , 29.  , 54.  , 18.  , 20.  ,  5.  ,\n",
       "       22.  , 43.  , 13.  , 17.  , 29.  , 35.  , 25.  , 25.  , 18.  ,\n",
       "        8.  ,  1.  , 46.  , 20.  , 16.  , 21.  , 43.  , 25.  , 39.  ,\n",
       "       49.  , 31.  , 30.  , 30.  , 34.  , 31.  , 11.  ,  0.42, 27.  ,\n",
       "       31.  , 39.  , 18.  , 39.  , 33.  , 26.  , 39.  , 35.  ,  6.  ,\n",
       "       30.5 , 39.  , 23.  , 31.  , 43.  , 10.  , 52.  , 27.  , 38.  ,\n",
       "       27.  ,  2.  , 36.  , 23.  ,  1.  , 19.  , 62.  , 15.  ,  0.83,\n",
       "       30.  , 23.  , 18.  , 39.  , 21.  , 20.  , 32.  , 29.  , 20.  ,\n",
       "       16.  , 30.  , 34.5 , 17.  , 42.  , 18.  , 35.  , 28.  , 40.  ,\n",
       "        4.  , 74.  ,  9.  , 16.  , 44.  , 18.  , 45.  , 51.  , 24.  ,\n",
       "       30.  , 41.  , 21.  , 48.  , 14.  , 24.  , 42.  , 27.  , 31.  ,\n",
       "       23.  ,  4.  , 26.  , 47.  , 33.  , 47.  , 28.  , 15.  , 20.  ,\n",
       "       19.  , 23.  , 56.  , 25.  , 33.  , 22.  , 28.  , 25.  , 39.  ,\n",
       "       27.  , 19.  ,  7.  , 26.  , 32.  ])"
      ]
     },
     "execution_count": 31,
     "metadata": {},
     "output_type": "execute_result"
    }
   ],
   "source": [
    "df['Age'].values"
   ]
  },
  {
   "cell_type": "code",
   "execution_count": 32,
   "metadata": {},
   "outputs": [
    {
     "data": {
      "text/plain": [
       "array([[ 3.    ,  7.25  , 22.    ],\n",
       "       [ 1.    , 71.2833, 38.    ],\n",
       "       [ 3.    ,  7.925 , 26.    ],\n",
       "       ...,\n",
       "       [ 3.    , 23.45  ,  7.    ],\n",
       "       [ 1.    , 30.    , 26.    ],\n",
       "       [ 3.    ,  7.75  , 32.    ]])"
      ]
     },
     "execution_count": 32,
     "metadata": {},
     "output_type": "execute_result"
    }
   ],
   "source": [
    "df[['Pclass','Fare','Age']].values"
   ]
  },
  {
   "cell_type": "code",
   "execution_count": 34,
   "metadata": {},
   "outputs": [
    {
     "name": "stdout",
     "output_type": "stream",
     "text": [
      "(887, 3)\n"
     ]
    }
   ],
   "source": [
    "arr=df[['Pclass','Fare','Age']].values\n",
    "print(arr.shape)"
   ]
  },
  {
   "cell_type": "code",
   "execution_count": 35,
   "metadata": {},
   "outputs": [
    {
     "name": "stdout",
     "output_type": "stream",
     "text": [
      "(887, 9)\n"
     ]
    }
   ],
   "source": [
    "print(df.shape)"
   ]
  },
  {
   "cell_type": "code",
   "execution_count": 36,
   "metadata": {},
   "outputs": [
    {
     "data": {
      "text/plain": [
       "array([22.  , 38.  , 26.  , 35.  , 35.  , 27.  , 54.  ,  2.  , 27.  ,\n",
       "       14.  ,  4.  , 58.  , 20.  , 39.  , 14.  , 55.  ,  2.  , 23.  ,\n",
       "       31.  , 22.  , 35.  , 34.  , 15.  , 28.  ,  8.  , 38.  , 26.  ,\n",
       "       19.  , 24.  , 23.  , 40.  , 48.  , 18.  , 66.  , 28.  , 42.  ,\n",
       "       18.  , 21.  , 18.  , 14.  , 40.  , 27.  ,  3.  , 19.  , 30.  ,\n",
       "       20.  , 27.  , 16.  , 18.  ,  7.  , 21.  , 49.  , 29.  , 65.  ,\n",
       "       46.  , 21.  , 28.5 ,  5.  , 11.  , 22.  , 38.  , 45.  ,  4.  ,\n",
       "       64.  ,  7.  , 29.  , 19.  , 17.  , 26.  , 32.  , 16.  , 21.  ,\n",
       "       26.  , 32.  , 25.  , 23.  , 28.  ,  0.83, 30.  , 22.  , 29.  ,\n",
       "       31.  , 28.  , 17.  , 33.  , 16.  , 20.  , 23.  , 24.  , 29.  ,\n",
       "       20.  , 46.  , 26.  , 59.  , 22.  , 71.  , 23.  , 34.  , 34.  ,\n",
       "       28.  , 29.  , 21.  , 33.  , 37.  , 28.  , 21.  , 29.  , 38.  ,\n",
       "       28.  , 47.  , 14.5 , 22.  , 20.  , 17.  , 21.  , 70.5 , 29.  ,\n",
       "       24.  ,  2.  , 21.  , 19.  , 32.5 , 32.5 , 54.  , 12.  , 19.  ,\n",
       "       24.  ,  2.  , 45.  , 33.  , 20.  , 47.  , 29.  , 25.  , 23.  ,\n",
       "       19.  , 37.  , 16.  , 24.  , 40.  , 22.  , 24.  , 19.  , 18.  ,\n",
       "       19.  , 27.  ,  9.  , 36.5 , 42.  , 51.  , 22.  , 55.5 , 40.5 ,\n",
       "       27.  , 51.  , 16.  , 30.  , 37.  ,  5.  , 44.  , 40.  , 26.  ,\n",
       "       17.  ,  1.  ,  9.  , 48.  , 45.  , 60.  , 28.  , 61.  ,  4.  ,\n",
       "        1.  , 21.  , 56.  , 18.  ,  5.  , 50.  , 30.  , 36.  ,  8.  ,\n",
       "       39.  ,  9.  ,  1.  ,  4.  , 39.  , 26.  , 45.  , 40.  , 36.  ,\n",
       "       32.  , 19.  , 19.  ,  3.  , 44.  , 58.  , 28.  , 42.  , 21.  ,\n",
       "       24.  , 28.  , 17.  , 34.  , 45.5 , 18.  ,  2.  , 32.  , 26.  ,\n",
       "       16.  , 40.  , 24.  , 35.  , 22.  , 30.  , 22.  , 31.  , 27.  ,\n",
       "       42.  , 32.  , 30.  , 16.  , 27.  , 51.  , 22.  , 38.  , 22.  ,\n",
       "       19.  , 20.5 , 18.  , 12.  , 35.  , 29.  , 59.  ,  5.  , 24.  ,\n",
       "       21.  , 44.  ,  8.  , 19.  , 33.  , 19.  , 18.  , 29.  , 22.  ,\n",
       "       30.  , 44.  , 25.  , 24.  , 37.  , 54.  , 18.  , 29.  , 62.  ,\n",
       "       30.  , 41.  , 29.  , 38.  , 30.  , 35.  , 50.  ,  3.  , 52.  ,\n",
       "       40.  , 21.  , 36.  , 16.  , 25.  , 58.  , 35.  , 28.  , 25.  ,\n",
       "       41.  , 37.  , 33.  , 63.  , 45.  , 21.  ,  7.  , 35.  , 65.  ,\n",
       "       28.  , 16.  , 19.  , 57.  , 33.  , 30.  , 22.  , 42.  , 22.  ,\n",
       "       26.  , 19.  , 36.  , 24.  , 24.  , 30.  , 23.5 ,  2.  , 47.  ,\n",
       "       50.  , 20.  , 24.  , 19.  , 46.  , 28.  ,  0.92, 42.  , 17.  ,\n",
       "       30.  , 30.  , 24.  , 18.  , 26.  , 28.  , 43.  , 26.  , 24.  ,\n",
       "       54.  , 31.  , 40.  , 22.  , 27.  , 30.  , 22.  , 20.  , 36.  ,\n",
       "       61.  , 36.  , 31.  , 16.  , 28.  , 45.5 , 38.  , 16.  , 42.  ,\n",
       "       30.  , 29.  , 41.  , 45.  , 45.  ,  2.  , 24.  , 28.  , 25.  ,\n",
       "       36.  , 24.  , 40.  , 34.  ,  3.  , 42.  , 23.  , 43.  , 15.  ,\n",
       "       25.  , 23.  , 28.  , 22.  , 38.  , 22.  , 23.  , 40.  , 29.  ,\n",
       "       45.  , 35.  , 27.  , 30.  , 60.  , 35.  , 22.  , 24.  , 25.  ,\n",
       "       18.  , 19.  , 22.  ,  3.  , 25.  , 22.  , 27.  , 20.  , 19.  ,\n",
       "       42.  ,  1.  , 32.  , 35.  , 27.  , 18.  ,  1.  , 36.  , 19.  ,\n",
       "       17.  , 36.  , 21.  , 28.  , 23.  , 24.  , 22.  , 31.  , 46.  ,\n",
       "       23.  , 28.  , 39.  , 26.  , 21.  , 28.  , 20.  , 34.  , 51.  ,\n",
       "        3.  , 21.  ,  3.  , 42.  , 27.  , 33.  , 22.  , 44.  , 32.  ,\n",
       "       34.  , 18.  , 30.  , 10.  , 21.  , 29.  , 28.  , 18.  , 54.  ,\n",
       "       28.  , 19.  , 28.  , 32.  , 28.  , 33.  , 42.  , 17.  , 50.  ,\n",
       "       14.  , 21.  , 24.  , 64.  , 31.  , 45.  , 20.  , 25.  , 28.  ,\n",
       "       29.  ,  4.  , 13.  , 34.  ,  5.  , 52.  , 36.  , 28.  , 30.  ,\n",
       "       49.  , 24.  , 29.  , 65.  , 41.  , 50.  , 17.  , 48.  , 34.  ,\n",
       "       47.  , 48.  , 34.  , 38.  , 21.  , 56.  , 22.  ,  0.75, 39.  ,\n",
       "       38.  , 33.  , 23.  , 22.  , 40.  , 34.  , 29.  , 22.  ,  2.  ,\n",
       "        9.  , 37.  , 50.  , 63.  , 25.  ,  8.  , 35.  , 58.  , 30.  ,\n",
       "        9.  , 19.  , 21.  , 55.  , 71.  , 21.  , 26.  , 54.  , 55.  ,\n",
       "       25.  , 24.  , 17.  , 21.  , 21.  , 37.  , 16.  , 18.  , 33.  ,\n",
       "       37.  , 28.  , 26.  , 29.  , 66.  , 36.  , 54.  , 24.  , 47.  ,\n",
       "       34.  , 30.  , 36.  , 32.  , 30.  , 22.  , 35.  , 44.  , 18.  ,\n",
       "       40.5 , 50.  , 49.  , 39.  , 23.  ,  2.  , 17.  , 17.  , 24.  ,\n",
       "       30.  ,  7.  , 45.  , 30.  , 69.  , 22.  , 36.  ,  9.  , 11.  ,\n",
       "       32.  , 50.  , 64.  , 19.  , 27.  , 33.  ,  8.  , 17.  , 27.  ,\n",
       "       21.  , 22.  , 22.  , 62.  , 48.  , 45.  , 39.  , 36.  , 30.  ,\n",
       "       40.  , 28.  , 40.  , 62.  , 24.  , 19.  , 29.  , 28.  , 32.  ,\n",
       "       62.  , 53.  , 36.  , 22.  , 16.  , 19.  , 34.  , 39.  , 18.  ,\n",
       "       32.  , 25.  , 39.  , 54.  , 36.  , 16.  , 18.  , 47.  , 60.  ,\n",
       "       22.  , 22.  , 35.  , 52.  , 47.  , 40.  , 37.  , 36.  , 31.  ,\n",
       "       49.  , 18.  , 49.  , 24.  , 42.  , 37.  , 44.  , 35.  , 36.  ,\n",
       "       30.  , 27.  , 22.  , 40.  , 39.  , 21.  , 18.  , 22.  , 35.  ,\n",
       "       24.  , 34.  , 26.  ,  4.  , 26.  , 27.  , 42.  , 20.  , 21.  ,\n",
       "       21.  , 61.  , 57.  , 21.  , 26.  , 18.  , 80.  , 51.  , 32.  ,\n",
       "       30.  ,  9.  , 28.  , 32.  , 31.  , 41.  , 37.  , 20.  , 24.  ,\n",
       "        2.  , 32.  ,  0.75, 48.  , 19.  , 56.  , 21.  , 23.  , 23.  ,\n",
       "       18.  , 21.  , 16.  , 18.  , 24.  , 27.  , 32.  , 23.  , 58.  ,\n",
       "       50.  , 40.  , 47.  , 36.  , 20.  , 32.  , 25.  , 49.  , 43.  ,\n",
       "       48.  , 40.  , 31.  , 70.  , 31.  , 19.  , 18.  , 24.5 , 18.  ,\n",
       "       43.  , 36.  , 28.  , 27.  , 20.  , 14.  , 60.  , 25.  , 14.  ,\n",
       "       19.  , 18.  , 15.  , 31.  ,  4.  , 37.  , 25.  , 60.  , 52.  ,\n",
       "       44.  , 19.  , 49.  , 42.  , 18.  , 35.  , 18.  , 25.  , 26.  ,\n",
       "       39.  , 45.  , 42.  , 22.  ,  4.  , 24.  , 41.  , 48.  , 29.  ,\n",
       "       52.  , 19.  , 38.  , 27.  , 33.  ,  6.  , 17.  , 34.  , 50.  ,\n",
       "       27.  , 20.  , 30.  , 28.  , 25.  , 25.  , 29.  , 11.  , 41.  ,\n",
       "       23.  , 23.  , 28.5 , 48.  , 35.  , 20.  , 32.  , 45.  , 36.  ,\n",
       "       21.  , 24.  , 31.  , 70.  , 16.  , 30.  , 19.  , 31.  ,  4.  ,\n",
       "        6.  , 33.  , 23.  , 48.  ,  0.67, 28.  , 18.  , 34.  , 33.  ,\n",
       "       23.  , 41.  , 20.  , 36.  , 16.  , 51.  , 46.  , 30.5 , 28.  ,\n",
       "       32.  , 24.  , 48.  , 57.  , 29.  , 54.  , 18.  , 20.  ,  5.  ,\n",
       "       22.  , 43.  , 13.  , 17.  , 29.  , 35.  , 25.  , 25.  , 18.  ,\n",
       "        8.  ,  1.  , 46.  , 20.  , 16.  , 21.  , 43.  , 25.  , 39.  ,\n",
       "       49.  , 31.  , 30.  , 30.  , 34.  , 31.  , 11.  ,  0.42, 27.  ,\n",
       "       31.  , 39.  , 18.  , 39.  , 33.  , 26.  , 39.  , 35.  ,  6.  ,\n",
       "       30.5 , 39.  , 23.  , 31.  , 43.  , 10.  , 52.  , 27.  , 38.  ,\n",
       "       27.  ,  2.  , 36.  , 23.  ,  1.  , 19.  , 62.  , 15.  ,  0.83,\n",
       "       30.  , 23.  , 18.  , 39.  , 21.  , 20.  , 32.  , 29.  , 20.  ,\n",
       "       16.  , 30.  , 34.5 , 17.  , 42.  , 18.  , 35.  , 28.  , 40.  ,\n",
       "        4.  , 74.  ,  9.  , 16.  , 44.  , 18.  , 45.  , 51.  , 24.  ,\n",
       "       30.  , 41.  , 21.  , 48.  , 14.  , 24.  , 42.  , 27.  , 31.  ,\n",
       "       23.  ,  4.  , 26.  , 47.  , 33.  , 47.  , 28.  , 15.  , 20.  ,\n",
       "       19.  , 23.  , 56.  , 25.  , 33.  , 22.  , 28.  , 25.  , 39.  ,\n",
       "       27.  , 19.  ,  7.  , 26.  , 32.  ])"
      ]
     },
     "execution_count": 36,
     "metadata": {},
     "output_type": "execute_result"
    }
   ],
   "source": [
    "arr[:,2]"
   ]
  },
  {
   "cell_type": "code",
   "execution_count": 40,
   "metadata": {},
   "outputs": [
    {
     "name": "stdout",
     "output_type": "stream",
     "text": [
      "[[  3.      21.075    2.    ]\n",
      " [  2.      30.0708  14.    ]\n",
      " [  3.      16.7      4.    ]\n",
      " [  3.       7.8542  14.    ]\n",
      " [  3.      29.125    2.    ]\n",
      " [  3.       8.0292  15.    ]\n",
      " [  3.      21.075    8.    ]\n",
      " [  3.      11.2417  14.    ]\n",
      " [  2.      41.5792   3.    ]\n",
      " [  3.      21.6792  16.    ]\n",
      " [  3.      39.6875   7.    ]\n",
      " [  2.      27.75     5.    ]\n",
      " [  3.      46.9     11.    ]\n",
      " [  3.      27.9      4.    ]\n",
      " [  3.      15.2458   7.    ]\n",
      " [  3.       7.925   17.    ]\n",
      " [  3.      46.9     16.    ]\n",
      " [  2.      29.       0.83  ]\n",
      " [  2.      10.5     17.    ]\n",
      " [  3.      34.375   16.    ]\n",
      " [  3.      14.4542  14.5   ]\n",
      " [  3.      14.4583  17.    ]\n",
      " [  3.      31.275    2.    ]\n",
      " [  3.      11.2417  12.    ]\n",
      " [  3.      22.3583   2.    ]\n",
      " [  3.       9.2167  16.    ]\n",
      " [  3.      34.375    9.    ]\n",
      " [  3.       7.7333  16.    ]\n",
      " [  3.      69.55     5.    ]\n",
      " [  3.       8.6625  17.    ]\n",
      " [  3.      39.6875   1.    ]\n",
      " [  3.      20.525    9.    ]\n",
      " [  3.      29.125    4.    ]\n",
      " [  3.      11.1333   1.    ]\n",
      " [  3.      25.4667   5.    ]\n",
      " [  3.      69.55     8.    ]\n",
      " [  3.      31.3875   9.    ]\n",
      " [  2.      39.       1.    ]\n",
      " [  3.      22.025    4.    ]\n",
      " [  2.      26.       3.    ]\n",
      " [  3.      69.55    17.    ]\n",
      " [  3.      10.4625   2.    ]\n",
      " [  3.       7.75    16.    ]\n",
      " [  3.       8.05    16.    ]\n",
      " [  3.      25.4667  12.    ]\n",
      " [  3.      31.3875   5.    ]\n",
      " [  2.      26.25     8.    ]\n",
      " [  3.      31.3875   3.    ]\n",
      " [  3.      39.6875  16.    ]\n",
      " [  3.      29.125    7.    ]\n",
      " [  3.       9.5     16.    ]\n",
      " [  1.     151.55     2.    ]\n",
      " [  1.     151.55     0.92  ]\n",
      " [  1.     108.9     17.    ]\n",
      " [  1.      57.9792  16.    ]\n",
      " [  3.      18.      16.    ]\n",
      " [  2.      26.       2.    ]\n",
      " [  3.      15.9      3.    ]\n",
      " [  3.       7.2292  15.    ]\n",
      " [  3.      21.075    3.    ]\n",
      " [  3.      15.7417   1.    ]\n",
      " [  3.      46.9      1.    ]\n",
      " [  2.      12.      17.    ]\n",
      " [  2.      18.75     3.    ]\n",
      " [  3.      25.4667   3.    ]\n",
      " [  3.      24.15    10.    ]\n",
      " [  3.       7.125   17.    ]\n",
      " [  1.     120.      14.    ]\n",
      " [  1.      81.8583   4.    ]\n",
      " [  2.      19.5     13.    ]\n",
      " [  3.      19.2583   5.    ]\n",
      " [  3.       7.75    17.    ]\n",
      " [  3.      19.2583   0.75  ]\n",
      " [  3.      12.2875   2.    ]\n",
      " [  3.      46.9      9.    ]\n",
      " [  3.      25.4667   8.    ]\n",
      " [  3.      15.9      9.    ]\n",
      " [  3.       8.6625  17.    ]\n",
      " [  1.      86.5     16.    ]\n",
      " [  2.      26.       2.    ]\n",
      " [  3.       7.2292  17.    ]\n",
      " [  3.       7.2292  17.    ]\n",
      " [  2.      26.25     7.    ]\n",
      " [  3.      31.275    9.    ]\n",
      " [  3.      31.275   11.    ]\n",
      " [  2.      36.75     8.    ]\n",
      " [  1.     110.8833  17.    ]\n",
      " [  3.       8.05    16.    ]\n",
      " [  3.       8.7125  16.    ]\n",
      " [  2.      39.       4.    ]\n",
      " [  3.      27.9      9.    ]\n",
      " [  3.      27.9      2.    ]\n",
      " [  3.      19.2583   0.75  ]\n",
      " [  3.       7.8292  16.    ]\n",
      " [  3.      46.9     14.    ]\n",
      " [  3.      39.6875  14.    ]\n",
      " [  1.     211.3375  15.    ]\n",
      " [  3.      13.4167   4.    ]\n",
      " [  3.      15.2458   4.    ]\n",
      " [  2.      33.       6.    ]\n",
      " [  3.       7.0542  17.    ]\n",
      " [  3.      18.7875  11.    ]\n",
      " [  3.      20.25    16.    ]\n",
      " [  2.      23.       4.    ]\n",
      " [  3.      12.475    6.    ]\n",
      " [  2.      14.5      0.67  ]\n",
      " [  3.       7.775   16.    ]\n",
      " [  3.      12.475    5.    ]\n",
      " [  3.       7.2292  13.    ]\n",
      " [  1.      57.      17.    ]\n",
      " [  3.      29.125    8.    ]\n",
      " [  3.      20.575    1.    ]\n",
      " [  2.      26.      16.    ]\n",
      " [  1.     120.      11.    ]\n",
      " [  3.       8.5167   0.42  ]\n",
      " [  3.      31.275    6.    ]\n",
      " [  3.      27.9     10.    ]\n",
      " [  3.      39.6875   2.    ]\n",
      " [  2.      37.0042   1.    ]\n",
      " [  3.      14.4542  15.    ]\n",
      " [  2.      18.75     0.83  ]\n",
      " [  2.      10.5     16.    ]\n",
      " [  3.       8.6625  17.    ]\n",
      " [  3.      31.275    4.    ]\n",
      " [  3.      15.2458   9.    ]\n",
      " [  1.      39.4     16.    ]\n",
      " [  3.      69.55    14.    ]\n",
      " [  3.      11.1333   4.    ]\n",
      " [  3.       7.225   15.    ]\n",
      " [  3.      23.45     7.    ]]\n",
      "[[ True False  True]\n",
      " [ True False  True]\n",
      " [ True  True  True]\n",
      " [ True  True  True]\n",
      " [ True False  True]\n",
      " [ True  True  True]\n",
      " [ True False  True]\n",
      " [ True  True  True]\n",
      " [ True False  True]\n",
      " [ True False  True]\n",
      " [ True False  True]\n",
      " [ True False  True]\n",
      " [ True False  True]\n",
      " [ True False  True]\n",
      " [ True  True  True]\n",
      " [ True  True  True]\n",
      " [ True False  True]\n",
      " [ True False  True]\n",
      " [ True  True  True]\n",
      " [ True False  True]\n",
      " [ True  True  True]\n",
      " [ True  True  True]\n",
      " [ True False  True]\n",
      " [ True  True  True]\n",
      " [ True False  True]\n",
      " [ True  True  True]\n",
      " [ True False  True]\n",
      " [ True  True  True]\n",
      " [ True False  True]\n",
      " [ True  True  True]\n",
      " [ True False  True]\n",
      " [ True False  True]\n",
      " [ True False  True]\n",
      " [ True  True  True]\n",
      " [ True False  True]\n",
      " [ True False  True]\n",
      " [ True False  True]\n",
      " [ True False  True]\n",
      " [ True False  True]\n",
      " [ True False  True]\n",
      " [ True False  True]\n",
      " [ True  True  True]\n",
      " [ True  True  True]\n",
      " [ True  True  True]\n",
      " [ True False  True]\n",
      " [ True False  True]\n",
      " [ True False  True]\n",
      " [ True False  True]\n",
      " [ True False  True]\n",
      " [ True False  True]\n",
      " [ True  True  True]\n",
      " [ True False  True]\n",
      " [ True False  True]\n",
      " [ True False  True]\n",
      " [ True False  True]\n",
      " [ True False  True]\n",
      " [ True False  True]\n",
      " [ True  True  True]\n",
      " [ True  True  True]\n",
      " [ True False  True]\n",
      " [ True  True  True]\n",
      " [ True False  True]\n",
      " [ True  True  True]\n",
      " [ True False  True]\n",
      " [ True False  True]\n",
      " [ True False  True]\n",
      " [ True  True  True]\n",
      " [ True False  True]\n",
      " [ True False  True]\n",
      " [ True False  True]\n",
      " [ True False  True]\n",
      " [ True  True  True]\n",
      " [ True False  True]\n",
      " [ True  True  True]\n",
      " [ True False  True]\n",
      " [ True False  True]\n",
      " [ True  True  True]\n",
      " [ True  True  True]\n",
      " [ True False  True]\n",
      " [ True False  True]\n",
      " [ True  True  True]\n",
      " [ True  True  True]\n",
      " [ True False  True]\n",
      " [ True False  True]\n",
      " [ True False  True]\n",
      " [ True False  True]\n",
      " [ True False  True]\n",
      " [ True  True  True]\n",
      " [ True  True  True]\n",
      " [ True False  True]\n",
      " [ True False  True]\n",
      " [ True False  True]\n",
      " [ True False  True]\n",
      " [ True  True  True]\n",
      " [ True False  True]\n",
      " [ True False  True]\n",
      " [ True False  True]\n",
      " [ True  True  True]\n",
      " [ True  True  True]\n",
      " [ True False  True]\n",
      " [ True  True  True]\n",
      " [ True False  True]\n",
      " [ True False  True]\n",
      " [ True False  True]\n",
      " [ True  True  True]\n",
      " [ True  True  True]\n",
      " [ True  True  True]\n",
      " [ True  True  True]\n",
      " [ True  True  True]\n",
      " [ True False  True]\n",
      " [ True False  True]\n",
      " [ True False  True]\n",
      " [ True False  True]\n",
      " [ True False  True]\n",
      " [ True  True  True]\n",
      " [ True False  True]\n",
      " [ True False  True]\n",
      " [ True False  True]\n",
      " [ True False  True]\n",
      " [ True  True  True]\n",
      " [ True False  True]\n",
      " [ True  True  True]\n",
      " [ True  True  True]\n",
      " [ True False  True]\n",
      " [ True  True  True]\n",
      " [ True False  True]\n",
      " [ True False  True]\n",
      " [ True  True  True]\n",
      " [ True  True  True]\n",
      " [ True False  True]]\n"
     ]
    }
   ],
   "source": [
    "mask = arr[:,2] < 18\n",
    "print(arr[mask])\n",
    "print(arr[mask] < 18)"
   ]
  },
  {
   "cell_type": "code",
   "execution_count": 41,
   "metadata": {},
   "outputs": [
    {
     "data": {
      "text/plain": [
       "<matplotlib.collections.PathCollection at 0x14ef60db648>"
      ]
     },
     "execution_count": 41,
     "metadata": {},
     "output_type": "execute_result"
    },
    {
     "data": {
      "image/png": "[encoded data removed]",
      "text/plain": [
       "<Figure size 432x288 with 1 Axes>"
      ]
     },
     "metadata": {
      "needs_background": "light"
     },
     "output_type": "display_data"
    }
   ],
   "source": [
    "import matplotlib.pyplot as plt\n",
    "plt.scatter(df['Age'], df['Fare'])"
   ]
  },
  {
   "cell_type": "code",
   "execution_count": 42,
   "metadata": {},
   "outputs": [
    {
     "data": {
      "text/plain": [
       "<matplotlib.collections.PathCollection at 0x14ef68ac8c8>"
      ]
     },
     "execution_count": 42,
     "metadata": {},
     "output_type": "execute_result"
    },
    {
     "data": {
      "image/png": "[encoded data removed]",
      "text/plain": [
       "<Figure size 432x288 with 1 Axes>"
      ]
     },
     "metadata": {
      "needs_background": "light"
     },
     "output_type": "display_data"
    }
   ],
   "source": [
    "plt.scatter(df['Age'], df['Fare'], c= df['Pclass'])"
   ]
  },
  {
   "cell_type": "code",
   "execution_count": 52,
   "metadata": {},
   "outputs": [
    {
     "data": {
      "text/plain": [
       "<matplotlib.collections.PathCollection at 0x14ef7cc6688>"
      ]
     },
     "execution_count": 52,
     "metadata": {},
     "output_type": "execute_result"
    },
    {
     "data": {
      "image/png": "[encoded data removed]",
      "text/plain": [
       "<Figure size 432x288 with 1 Axes>"
      ]
     },
     "metadata": {
      "needs_background": "light"
     },
     "output_type": "display_data"
    }
   ],
   "source": [
    "plt.scatter(df['Fare'], df['Age'], c= df['Survived'])"
   ]
  },
  {
   "cell_type": "code",
   "execution_count": 59,
   "metadata": {},
   "outputs": [
    {
     "name": "stdout",
     "output_type": "stream",
     "text": [
      "[[ 0.01615949 -0.01549065]] [-0.51037152]\n"
     ]
    }
   ],
   "source": [
    "from sklearn.linear_model import LogisticRegression\n",
    "X = df[['Fare', 'Age']].values\n",
    "y = df['Survived'].values\n",
    "\n",
    "model = LogisticRegression()\n",
    "model.fit(X,y)\n",
    "\n",
    "print(model.coef_, model.intercept_)"
   ]
  },
  {
   "cell_type": "code",
   "execution_count": 63,
   "metadata": {},
   "outputs": [
    {
     "data": {
      "text/plain": [
       "LogisticRegression(C=1.0, class_weight=None, dual=False, fit_intercept=True,\n",
       "                   intercept_scaling=1, l1_ratio=None, max_iter=100,\n",
       "                   multi_class='auto', n_jobs=None, penalty='l2',\n",
       "                   random_state=None, solver='lbfgs', tol=0.0001, verbose=0,\n",
       "                   warm_start=False)"
      ]
     },
     "execution_count": 63,
     "metadata": {},
     "output_type": "execute_result"
    }
   ],
   "source": [
    "W = df[['Pclass', 'male', 'Age', 'Fare']].values\n",
    "model.fit(W,y)"
   ]
  },
  {
   "cell_type": "code",
   "execution_count": 67,
   "metadata": {},
   "outputs": [],
   "source": [
    "from sklearn.datasets import load_breast_cancer\n",
    "cancer_data = load_breast_cancer()"
   ]
  },
  {
   "cell_type": "code",
   "execution_count": 68,
   "metadata": {},
   "outputs": [
    {
     "name": "stdout",
     "output_type": "stream",
     "text": [
      "dict_keys(['data', 'target', 'target_names', 'DESCR', 'feature_names', 'filename'])\n"
     ]
    }
   ],
   "source": [
    "print(cancer_data.keys())"
   ]
  },
  {
   "cell_type": "code",
   "execution_count": 70,
   "metadata": {},
   "outputs": [
    {
     "name": "stdout",
     "output_type": "stream",
     "text": [
      ".. _breast_cancer_dataset:\n",
      "\n",
      "Breast cancer wisconsin (diagnostic) dataset\n",
      "--------------------------------------------\n",
      "\n",
      "**Data Set Characteristics:**\n",
      "\n",
      "    :Number of Instances: 569\n",
      "\n",
      "    :Number of Attributes: 30 numeric, predictive attributes and the class\n",
      "\n",
      "    :Attribute Information:\n",
      "        - radius (mean of distances from center to points on the perimeter)\n",
      "        - texture (standard deviation of gray-scale values)\n",
      "        - perimeter\n",
      "        - area\n",
      "        - smoothness (local variation in radius lengths)\n",
      "        - compactness (perimeter^2 / area - 1.0)\n",
      "        - concavity (severity of concave portions of the contour)\n",
      "        - concave points (number of concave portions of the contour)\n",
      "        - symmetry \n",
      "        - fractal dimension (\"coastline approximation\" - 1)\n",
      "\n",
      "        The mean, standard error, and \"worst\" or largest (mean of the three\n",
      "        largest values) of these features were computed for each image,\n",
      "        resulting in 30 features.  For instance, field 3 is Mean Radius, field\n",
      "        13 is Radius SE, field 23 is Worst Radius.\n",
      "\n",
      "        - class:\n",
      "                - WDBC-Malignant\n",
      "                - WDBC-Benign\n",
      "\n",
      "    :Summary Statistics:\n",
      "\n",
      "    ===================================== ====== ======\n",
      "                                           Min    Max\n",
      "    ===================================== ====== ======\n",
      "    radius (mean):                        6.981  28.11\n",
      "    texture (mean):                       9.71   39.28\n",
      "    perimeter (mean):                     43.79  188.5\n",
      "    area (mean):                          143.5  2501.0\n",
      "    smoothness (mean):                    0.053  0.163\n",
      "    compactness (mean):                   0.019  0.345\n",
      "    concavity (mean):                     0.0    0.427\n",
      "    concave points (mean):                0.0    0.201\n",
      "    symmetry (mean):                      0.106  0.304\n",
      "    fractal dimension (mean):             0.05   0.097\n",
      "    radius (standard error):              0.112  2.873\n",
      "    texture (standard error):             0.36   4.885\n",
      "    perimeter (standard error):           0.757  21.98\n",
      "    area (standard error):                6.802  542.2\n",
      "    smoothness (standard error):          0.002  0.031\n",
      "    compactness (standard error):         0.002  0.135\n",
      "    concavity (standard error):           0.0    0.396\n",
      "    concave points (standard error):      0.0    0.053\n",
      "    symmetry (standard error):            0.008  0.079\n",
      "    fractal dimension (standard error):   0.001  0.03\n",
      "    radius (worst):                       7.93   36.04\n",
      "    texture (worst):                      12.02  49.54\n",
      "    perimeter (worst):                    50.41  251.2\n",
      "    area (worst):                         185.2  4254.0\n",
      "    smoothness (worst):                   0.071  0.223\n",
      "    compactness (worst):                  0.027  1.058\n",
      "    concavity (worst):                    0.0    1.252\n",
      "    concave points (worst):               0.0    0.291\n",
      "    symmetry (worst):                     0.156  0.664\n",
      "    fractal dimension (worst):            0.055  0.208\n",
      "    ===================================== ====== ======\n",
      "\n",
      "    :Missing Attribute Values: None\n",
      "\n",
      "    :Class Distribution: 212 - Malignant, 357 - Benign\n",
      "\n",
      "    :Creator:  Dr. William H. Wolberg, W. Nick Street, Olvi L. Mangasarian\n",
      "\n",
      "    :Donor: Nick Street\n",
      "\n",
      "    :Date: November, 1995\n",
      "\n",
      "This is a copy of UCI ML Breast Cancer Wisconsin (Diagnostic) datasets.\n",
      "https://goo.gl/U2Uwz2\n",
      "\n",
      "Features are computed from a digitized image of a fine needle\n",
      "aspirate (FNA) of a breast mass.  They describe\n",
      "characteristics of the cell nuclei present in the image.\n",
      "\n",
      "Separating plane described above was obtained using\n",
      "Multisurface Method-Tree (MSM-T) [K. P. Bennett, \"Decision Tree\n",
      "Construction Via Linear Programming.\" Proceedings of the 4th\n",
      "Midwest Artificial Intelligence and Cognitive Science Society,\n",
      "pp. 97-101, 1992], a classification method which uses linear\n",
      "programming to construct a decision tree.  Relevant features\n",
      "were selected using an exhaustive search in the space of 1-4\n",
      "features and 1-3 separating planes.\n",
      "\n",
      "The actual linear program used to obtain the separating plane\n",
      "in the 3-dimensional space is that described in:\n",
      "[K. P. Bennett and O. L. Mangasarian: \"Robust Linear\n",
      "Programming Discrimination of Two Linearly Inseparable Sets\",\n",
      "Optimization Methods and Software 1, 1992, 23-34].\n",
      "\n",
      "This database is also available through the UW CS ftp server:\n",
      "\n",
      "ftp ftp.cs.wisc.edu\n",
      "cd math-prog/cpo-dataset/machine-learn/WDBC/\n",
      "\n",
      ".. topic:: References\n",
      "\n",
      "   - W.N. Street, W.H. Wolberg and O.L. Mangasarian. Nuclear feature extraction \n",
      "     for breast tumor diagnosis. IS&T/SPIE 1993 International Symposium on \n",
      "     Electronic Imaging: Science and Technology, volume 1905, pages 861-870,\n",
      "     San Jose, CA, 1993.\n",
      "   - O.L. Mangasarian, W.N. Street and W.H. Wolberg. Breast cancer diagnosis and \n",
      "     prognosis via linear programming. Operations Research, 43(4), pages 570-577, \n",
      "     July-August 1995.\n",
      "   - W.H. Wolberg, W.N. Street, and O.L. Mangasarian. Machine learning techniques\n",
      "     to diagnose breast cancer from fine-needle aspirates. Cancer Letters 77 (1994) \n",
      "     163-171.\n"
     ]
    }
   ],
   "source": [
    "print(cancer_data['DESCR'])"
   ]
  },
  {
   "cell_type": "code",
   "execution_count": 71,
   "metadata": {},
   "outputs": [
    {
     "name": "stdout",
     "output_type": "stream",
     "text": [
      "[[1.799e+01 1.038e+01 1.228e+02 ... 2.654e-01 4.601e-01 1.189e-01]\n",
      " [2.057e+01 1.777e+01 1.329e+02 ... 1.860e-01 2.750e-01 8.902e-02]\n",
      " [1.969e+01 2.125e+01 1.300e+02 ... 2.430e-01 3.613e-01 8.758e-02]\n",
      " ...\n",
      " [1.660e+01 2.808e+01 1.083e+02 ... 1.418e-01 2.218e-01 7.820e-02]\n",
      " [2.060e+01 2.933e+01 1.401e+02 ... 2.650e-01 4.087e-01 1.240e-01]\n",
      " [7.760e+00 2.454e+01 4.792e+01 ... 0.000e+00 2.871e-01 7.039e-02]]\n"
     ]
    }
   ],
   "source": [
    "print(cancer_data['data'])"
   ]
  },
  {
   "cell_type": "code",
   "execution_count": 72,
   "metadata": {},
   "outputs": [
    {
     "name": "stdout",
     "output_type": "stream",
     "text": [
      "['mean radius' 'mean texture' 'mean perimeter' 'mean area'\n",
      " 'mean smoothness' 'mean compactness' 'mean concavity'\n",
      " 'mean concave points' 'mean symmetry' 'mean fractal dimension'\n",
      " 'radius error' 'texture error' 'perimeter error' 'area error'\n",
      " 'smoothness error' 'compactness error' 'concavity error'\n",
      " 'concave points error' 'symmetry error' 'fractal dimension error'\n",
      " 'worst radius' 'worst texture' 'worst perimeter' 'worst area'\n",
      " 'worst smoothness' 'worst compactness' 'worst concavity'\n",
      " 'worst concave points' 'worst symmetry' 'worst fractal dimension']\n"
     ]
    }
   ],
   "source": [
    "print(cancer_data['feature_names'])"
   ]
  },
  {
   "cell_type": "code",
   "execution_count": 73,
   "metadata": {},
   "outputs": [
    {
     "name": "stdout",
     "output_type": "stream",
     "text": [
      "   mean radius  mean texture  mean perimeter  mean area  mean smoothness  \\\n",
      "0        17.99         10.38          122.80     1001.0          0.11840   \n",
      "1        20.57         17.77          132.90     1326.0          0.08474   \n",
      "2        19.69         21.25          130.00     1203.0          0.10960   \n",
      "3        11.42         20.38           77.58      386.1          0.14250   \n",
      "4        20.29         14.34          135.10     1297.0          0.10030   \n",
      "\n",
      "   mean compactness  mean concavity  mean concave points  mean symmetry  \\\n",
      "0           0.27760          0.3001              0.14710         0.2419   \n",
      "1           0.07864          0.0869              0.07017         0.1812   \n",
      "2           0.15990          0.1974              0.12790         0.2069   \n",
      "3           0.28390          0.2414              0.10520         0.2597   \n",
      "4           0.13280          0.1980              0.10430         0.1809   \n",
      "\n",
      "   mean fractal dimension  ...  worst radius  worst texture  worst perimeter  \\\n",
      "0                 0.07871  ...         25.38          17.33           184.60   \n",
      "1                 0.05667  ...         24.99          23.41           158.80   \n",
      "2                 0.05999  ...         23.57          25.53           152.50   \n",
      "3                 0.09744  ...         14.91          26.50            98.87   \n",
      "4                 0.05883  ...         22.54          16.67           152.20   \n",
      "\n",
      "   worst area  worst smoothness  worst compactness  worst concavity  \\\n",
      "0      2019.0            0.1622             0.6656           0.7119   \n",
      "1      1956.0            0.1238             0.1866           0.2416   \n",
      "2      1709.0            0.1444             0.4245           0.4504   \n",
      "3       567.7            0.2098             0.8663           0.6869   \n",
      "4      1575.0            0.1374             0.2050           0.4000   \n",
      "\n",
      "   worst concave points  worst symmetry  worst fractal dimension  \n",
      "0                0.2654          0.4601                  0.11890  \n",
      "1                0.1860          0.2750                  0.08902  \n",
      "2                0.2430          0.3613                  0.08758  \n",
      "3                0.2575          0.6638                  0.17300  \n",
      "4                0.1625          0.2364                  0.07678  \n",
      "\n",
      "[5 rows x 30 columns]\n"
     ]
    }
   ],
   "source": [
    "df = pd.DataFrame(cancer_data['data'],\n",
    "columns=cancer_data['feature_names'])\n",
    "print(df.head())"
   ]
  },
  {
   "cell_type": "code",
   "execution_count": 74,
   "metadata": {},
   "outputs": [
    {
     "name": "stdout",
     "output_type": "stream",
     "text": [
      "[0 0 0 0 0 0 0 0 0 0 0 0 0 0 0 0 0 0 0 1 1 1 0 0 0 0 0 0 0 0 0 0 0 0 0 0 0\n",
      " 1 0 0 0 0 0 0 0 0 1 0 1 1 1 1 1 0 0 1 0 0 1 1 1 1 0 1 0 0 1 1 1 1 0 1 0 0\n",
      " 1 0 1 0 0 1 1 1 0 0 1 0 0 0 1 1 1 0 1 1 0 0 1 1 1 0 0 1 1 1 1 0 1 1 0 1 1\n",
      " 1 1 1 1 1 1 0 0 0 1 0 0 1 1 1 0 0 1 0 1 0 0 1 0 0 1 1 0 1 1 0 1 1 1 1 0 1\n",
      " 1 1 1 1 1 1 1 1 0 1 1 1 1 0 0 1 0 1 1 0 0 1 1 0 0 1 1 1 1 0 1 1 0 0 0 1 0\n",
      " 1 0 1 1 1 0 1 1 0 0 1 0 0 0 0 1 0 0 0 1 0 1 0 1 1 0 1 0 0 0 0 1 1 0 0 1 1\n",
      " 1 0 1 1 1 1 1 0 0 1 1 0 1 1 0 0 1 0 1 1 1 1 0 1 1 1 1 1 0 1 0 0 0 0 0 0 0\n",
      " 0 0 0 0 0 0 0 1 1 1 1 1 1 0 1 0 1 1 0 1 1 0 1 0 0 1 1 1 1 1 1 1 1 1 1 1 1\n",
      " 1 0 1 1 0 1 0 1 1 1 1 1 1 1 1 1 1 1 1 1 1 0 1 1 1 0 1 0 1 1 1 1 0 0 0 1 1\n",
      " 1 1 0 1 0 1 0 1 1 1 0 1 1 1 1 1 1 1 0 0 0 1 1 1 1 1 1 1 1 1 1 1 0 0 1 0 0\n",
      " 0 1 0 0 1 1 1 1 1 0 1 1 1 1 1 0 1 1 1 0 1 1 0 0 1 1 1 1 1 1 0 1 1 1 1 1 1\n",
      " 1 0 1 1 1 1 1 0 1 1 0 1 1 1 1 1 1 1 1 1 1 1 1 0 1 0 0 1 0 1 1 1 1 1 0 1 1\n",
      " 0 1 0 1 1 0 1 0 1 1 1 1 1 1 1 1 0 0 1 1 1 1 1 1 0 1 1 1 1 1 1 1 1 1 1 0 1\n",
      " 1 1 1 1 1 1 0 1 0 1 1 0 1 1 1 1 1 0 0 1 0 1 0 1 1 1 1 1 0 1 1 0 1 0 1 0 0\n",
      " 1 1 1 0 1 1 1 1 1 1 1 1 1 1 1 0 1 0 0 1 1 1 1 1 1 1 1 1 1 1 1 1 1 1 1 1 1\n",
      " 1 1 1 1 1 1 1 0 0 0 0 0 0 1]\n"
     ]
    }
   ],
   "source": [
    "print(cancer_data['target'])"
   ]
  },
  {
   "cell_type": "code",
   "execution_count": 76,
   "metadata": {},
   "outputs": [
    {
     "name": "stdout",
     "output_type": "stream",
     "text": [
      "(569,)\n"
     ]
    }
   ],
   "source": [
    "print(cancer_data['target'].shape)"
   ]
  },
  {
   "cell_type": "code",
   "execution_count": 77,
   "metadata": {},
   "outputs": [
    {
     "name": "stdout",
     "output_type": "stream",
     "text": [
      "['malignant' 'benign']\n"
     ]
    }
   ],
   "source": [
    "print(cancer_data['target_names'])"
   ]
  },
  {
   "cell_type": "code",
   "execution_count": 78,
   "metadata": {},
   "outputs": [
    {
     "name": "stdout",
     "output_type": "stream",
     "text": [
      "   mean radius  mean texture  mean perimeter  mean area  mean smoothness  \\\n",
      "0        17.99         10.38          122.80     1001.0          0.11840   \n",
      "1        20.57         17.77          132.90     1326.0          0.08474   \n",
      "2        19.69         21.25          130.00     1203.0          0.10960   \n",
      "3        11.42         20.38           77.58      386.1          0.14250   \n",
      "4        20.29         14.34          135.10     1297.0          0.10030   \n",
      "\n",
      "   mean compactness  mean concavity  mean concave points  mean symmetry  \\\n",
      "0           0.27760          0.3001              0.14710         0.2419   \n",
      "1           0.07864          0.0869              0.07017         0.1812   \n",
      "2           0.15990          0.1974              0.12790         0.2069   \n",
      "3           0.28390          0.2414              0.10520         0.2597   \n",
      "4           0.13280          0.1980              0.10430         0.1809   \n",
      "\n",
      "   mean fractal dimension  ...  worst texture  worst perimeter  worst area  \\\n",
      "0                 0.07871  ...          17.33           184.60      2019.0   \n",
      "1                 0.05667  ...          23.41           158.80      1956.0   \n",
      "2                 0.05999  ...          25.53           152.50      1709.0   \n",
      "3                 0.09744  ...          26.50            98.87       567.7   \n",
      "4                 0.05883  ...          16.67           152.20      1575.0   \n",
      "\n",
      "   worst smoothness  worst compactness  worst concavity  worst concave points  \\\n",
      "0            0.1622             0.6656           0.7119                0.2654   \n",
      "1            0.1238             0.1866           0.2416                0.1860   \n",
      "2            0.1444             0.4245           0.4504                0.2430   \n",
      "3            0.2098             0.8663           0.6869                0.2575   \n",
      "4            0.1374             0.2050           0.4000                0.1625   \n",
      "\n",
      "   worst symmetry  worst fractal dimension  target  \n",
      "0          0.4601                  0.11890       0  \n",
      "1          0.2750                  0.08902       0  \n",
      "2          0.3613                  0.08758       0  \n",
      "3          0.6638                  0.17300       0  \n",
      "4          0.2364                  0.07678       0  \n",
      "\n",
      "[5 rows x 31 columns]\n"
     ]
    }
   ],
   "source": [
    "import pandas as pd\n",
    "\n",
    "df['target'] = cancer_data['target']\n",
    "print(df.head())"
   ]
  },
  {
   "cell_type": "code",
   "execution_count": 80,
   "metadata": {},
   "outputs": [
    {
     "name": "stderr",
     "output_type": "stream",
     "text": [
      "C:\\Users\\Lester\\anaconda3\\lib\\site-packages\\sklearn\\linear_model\\_logistic.py:940: ConvergenceWarning: lbfgs failed to converge (status=1):\n",
      "STOP: TOTAL NO. of ITERATIONS REACHED LIMIT.\n",
      "\n",
      "Increase the number of iterations (max_iter) or scale the data as shown in:\n",
      "    https://scikit-learn.org/stable/modules/preprocessing.html\n",
      "Please also refer to the documentation for alternative solver options:\n",
      "    https://scikit-learn.org/stable/modules/linear_model.html#logistic-regression\n",
      "  extra_warning_msg=_LOGISTIC_SOLVER_CONVERGENCE_MSG)\n"
     ]
    },
    {
     "data": {
      "text/plain": [
       "LogisticRegression(C=1.0, class_weight=None, dual=False, fit_intercept=True,\n",
       "                   intercept_scaling=1, l1_ratio=None, max_iter=100,\n",
       "                   multi_class='auto', n_jobs=None, penalty='l2',\n",
       "                   random_state=None, solver='lbfgs', tol=0.0001, verbose=0,\n",
       "                   warm_start=False)"
      ]
     },
     "execution_count": 80,
     "metadata": {},
     "output_type": "execute_result"
    }
   ],
   "source": [
    "X = df[cancer_data.feature_names].values\n",
    "y = df['target'].values\n",
    "model = LogisticRegression()\n",
    "model.fit(X,y)"
   ]
  },
  {
   "cell_type": "code",
   "execution_count": 81,
   "metadata": {},
   "outputs": [
    {
     "data": {
      "text/plain": [
       "LogisticRegression(C=1.0, class_weight=None, dual=False, fit_intercept=True,\n",
       "                   intercept_scaling=1, l1_ratio=None, max_iter=100,\n",
       "                   multi_class='auto', n_jobs=None, penalty='l2',\n",
       "                   random_state=None, solver='liblinear', tol=0.0001, verbose=0,\n",
       "                   warm_start=False)"
      ]
     },
     "execution_count": 81,
     "metadata": {},
     "output_type": "execute_result"
    }
   ],
   "source": [
    "model = LogisticRegression(solver= 'liblinear')\n",
    "model.fit(X,y)"
   ]
  },
  {
   "cell_type": "code",
   "execution_count": 5,
   "metadata": {},
   "outputs": [
    {
     "name": "stdout",
     "output_type": "stream",
     "text": [
      "whole dataset: (887, 6) (887,)\n",
      "training set: (665, 6) (665,)\n",
      "test set: (222, 6) (222,)\n"
     ]
    },
    {
     "ename": "TypeError",
     "evalue": "fit() missing 1 required positional argument: 'y'",
     "output_type": "error",
     "traceback": [
      "\u001b[1;31m---------------------------------------------------------------------------\u001b[0m",
      "\u001b[1;31mTypeError\u001b[0m                                 Traceback (most recent call last)",
      "\u001b[1;32m<ipython-input-5-e9f62ae31437>\u001b[0m in \u001b[0;36m<module>\u001b[1;34m\u001b[0m\n\u001b[0;32m     16\u001b[0m \u001b[1;33m\u001b[0m\u001b[0m\n\u001b[0;32m     17\u001b[0m \u001b[0mmodel\u001b[0m \u001b[1;33m=\u001b[0m \u001b[0mLogisticRegression\u001b[0m\u001b[1;33m\u001b[0m\u001b[1;33m\u001b[0m\u001b[0m\n\u001b[1;32m---> 18\u001b[1;33m \u001b[0mmodel\u001b[0m\u001b[1;33m.\u001b[0m\u001b[0mfit\u001b[0m\u001b[1;33m(\u001b[0m\u001b[0mX_train\u001b[0m\u001b[1;33m,\u001b[0m \u001b[0my_train\u001b[0m\u001b[1;33m)\u001b[0m\u001b[1;33m\u001b[0m\u001b[1;33m\u001b[0m\u001b[0m\n\u001b[0m\u001b[0;32m     19\u001b[0m \u001b[1;33m\u001b[0m\u001b[0m\n\u001b[0;32m     20\u001b[0m \u001b[0my_pred\u001b[0m \u001b[1;33m=\u001b[0m \u001b[0mmodel\u001b[0m\u001b[1;33m.\u001b[0m\u001b[0mpredict\u001b[0m\u001b[1;33m(\u001b[0m\u001b[0mX_test\u001b[0m\u001b[1;33m)\u001b[0m\u001b[1;33m\u001b[0m\u001b[1;33m\u001b[0m\u001b[0m\n",
      "\u001b[1;31mTypeError\u001b[0m: fit() missing 1 required positional argument: 'y'"
     ]
    }
   ],
   "source": [
    "import pandas as pd\n",
    "from sklearn.linear_model import LogisticRegression \n",
    "from sklearn.model_selection import train_test_split\n",
    "from sklearn.metrics import accuracy_score, precision_score, recall_score, f1_score\n",
    "\n",
    "df = pd.read_csv('C://Users/Lester/titanic.csv')\n",
    "df['male'] = df['Sex'] == 'male'\n",
    "X = df[['Pclass','male', 'Age', 'Siblings/Spouses Aboard', 'Parents/Children Aboard', 'Fare']].values\n",
    "y = df['Survived'].values\n",
    "\n",
    "X_train,X_test, y_train,y_test = train_test_split(X,y)\n",
    "\n",
    "print(\"whole dataset:\", X.shape, y.shape)\n",
    "print(\"training set:\", X_train.shape, y_train.shape)\n",
    "print(\"test set:\", X_test.shape, y_test.shape)\n",
    "\n",
    "model = LogisticRegression\n",
    "model.fit(X_train, y_train)\n",
    "\n",
    "y_pred = model.predict(X_test)\n",
    "print(\"accuracy:\", accuracy_score(y_test, y_pred))\n",
    "print(\"prediction:\", prediction_score(y_test, y_pred))\n",
    "print(\"recall:\", recall_score(y_test, y_pred))\n",
    "print(\"f1 score:\", f1_score(y_test, y_pred))"
   ]
  },
  {
   "cell_type": "code",
   "execution_count": 9,
   "metadata": {},
   "outputs": [
    {
     "name": "stdout",
     "output_type": "stream",
     "text": [
      "X_train [[2, 2], [1, 1], [3, 3]]\n",
      "X_test [[4, 4]]\n"
     ]
    }
   ],
   "source": [
    "from sklearn.model_selection import train_test_split\n",
    "\n",
    "X = [[1,1],[2,2],[3,3],[4,4]]\n",
    "y = [0,0,1,1]\n",
    "\n",
    "X_train, X_test, y_train,y_test = train_test_split(X,y)\n",
    "print('X_train', X_train)\n",
    "print('X_test', X_test)"
   ]
  },
  {
   "cell_type": "code",
   "execution_count": 8,
   "metadata": {},
   "outputs": [
    {
     "name": "stdout",
     "output_type": "stream",
     "text": [
      "X_train [[3, 3], [1, 1], [4, 4]]\n",
      "X_test [[2, 2]]\n"
     ]
    }
   ],
   "source": [
    "from sklearn.model_selection import train_test_split\n",
    "\n",
    "X = [[1,1],[2,2],[3,3],[4,4]]\n",
    "y = [0,0,1,1]\n",
    "\n",
    "X_train, X_test, y_train,y_test = train_test_split(X,y, random_state = 27)\n",
    "print('X_train', X_train)\n",
    "print('X_test', X_test)"
   ]
  },
  {
   "cell_type": "code",
   "execution_count": 11,
   "metadata": {},
   "outputs": [],
   "source": [
    "import numpy as np\n",
    "from sklearn.datasets import load_digits\n",
    "import matplotlib.pyplot as plt\n",
    "from sklearn.decomposition import PCA\n",
    "from sklearn.preprocessing import scale\n",
    "#from sklearn.lda import LDA\n",
    "import matplotlib.cm as cm\n",
    "digits = load_digits()\n",
    "data = digits.data\n",
    "n_samples, n_features = data.shape\n",
    "n_digits = len(np.unique(digits.target))\n",
    "labels = digits.target\n"
   ]
  },
  {
   "cell_type": "code",
   "execution_count": 12,
   "metadata": {},
   "outputs": [
    {
     "name": "stdout",
     "output_type": "stream",
     "text": [
      "explained variance ratio (first two components): [0.14890594 0.13618771 0.11794594 0.08409979 0.05782411 0.0491691\n",
      " 0.04315618 0.0366099  0.03353056 0.03078768]\n",
      "sum of explained variance (first two components): 0.738216900825617\n"
     ]
    }
   ],
   "source": [
    "pca = PCA(n_components=10)\n",
    "data_r = pca.fit(data).transform(data)\n",
    "print('explained variance ratio (first two components): %s' %\n",
    "str(pca.explained_variance_ratio_))\n",
    "print('sum of explained variance (first two components): %s' %\n",
    "str(sum(pca.explained_variance_ratio_)))"
   ]
  },
  {
   "cell_type": "code",
   "execution_count": 16,
   "metadata": {},
   "outputs": [
    {
     "ename": "SyntaxError",
     "evalue": "invalid syntax (<ipython-input-16-886dcb671fbc>, line 5)",
     "output_type": "error",
     "traceback": [
      "\u001b[1;36m  File \u001b[1;32m\"<ipython-input-16-886dcb671fbc>\"\u001b[1;36m, line \u001b[1;32m5\u001b[0m\n\u001b[1;33m    for c, i target_name in zip(colors, [1,2,3,4,5,6,7,8,9,10], labels):\u001b[0m\n\u001b[1;37m                       ^\u001b[0m\n\u001b[1;31mSyntaxError\u001b[0m\u001b[1;31m:\u001b[0m invalid syntax\n"
     ]
    }
   ],
   "source": [
    "X = np.arange(10)\n",
    "ys = [i+x+(i*x)**2 for i in range(10)]\n",
    "plt.figure()\n",
    "colors = cm.rainbow(np.linspace(0, 1, len(ys)))\n",
    "for c, i target_name in zip(colors, [1,2,3,4,5,6,7,8,9,10], labels):\n",
    "    plt.scatter(data_r[labels == I, 0], data_r[labels == I, 1],\n",
    "    c=c, alpha = 0.4)\n",
    "    plt.legend()\n",
    "    plt.title('Scatterplot of Points plotted in first \\n'\n",
    "    '10 Principal Components')\n",
    "    plt.show()\n"
   ]
  },
  {
   "cell_type": "code",
   "execution_count": 17,
   "metadata": {},
   "outputs": [
    {
     "ename": "SyntaxError",
     "evalue": "EOL while scanning string literal (<ipython-input-17-6dd77b1965c6>, line 14)",
     "output_type": "error",
     "traceback": [
      "\u001b[1;36m  File \u001b[1;32m\"<ipython-input-17-6dd77b1965c6>\"\u001b[1;36m, line \u001b[1;32m14\u001b[0m\n\u001b[1;33m    print('% 9s' % 'init'' time inertia homo compl v-meas ARI AMI\u001b[0m\n\u001b[1;37m                                                                 ^\u001b[0m\n\u001b[1;31mSyntaxError\u001b[0m\u001b[1;31m:\u001b[0m EOL while scanning string literal\n"
     ]
    }
   ],
   "source": [
    "from time import time\n",
    "import numpy as np\n",
    "import matplotlib.pyplot as plt\n",
    "np.random.seed()\n",
    "digits = load_digits()\n",
    "data = scale(digits.data)\n",
    "n_samples, n_features = data.shape\n",
    "n_digits = len(np.unique(digits.target))\n",
    "labels = digits.target\n",
    "sample_size = 300\n",
    "print(\"n_digits: %d, \\t n_samples %d, \\t n_features %d\"\n",
    "% (n_digits, n_samples, n_features))\n",
    "print(79 * '_')\n",
    "print('% 9s' % 'init'' time inertia homo compl v-meas ARI AMI\n",
    "silhouette')\n",
    "def bench_k_means(estimator, name, data):\n",
    "t0 = time()\n",
    "estimator.fit(data)\n",
    "print('% 9s %.2fs %i %.3f %.3f %.3f %.3f %.3f %.3f'\n",
    "% (name, (time() - t0), estimator.inertia_,\n",
    "metrics.homogeneity_score(labels, estimator.labels_),\n",
    "metrics.completeness_score(labels, estimator.labels_),\n",
    "metrics.v_measure_score(labels, estimator.labels_),\n",
    "metrics.adjusted_rand_score(labels, estimator.labels_),\n",
    "metrics.silhouette_score(data, estimator.labels_,\n",
    "metric='euclidean',\n",
    "sample_size=sample_size)))\n"
   ]
  },
  {
   "cell_type": "code",
   "execution_count": null,
   "metadata": {},
   "outputs": [],
   "source": []
  }
 ],
 "metadata": {
  "kernelspec": {
   "display_name": "Python 3",
   "language": "python",
   "name": "python3"
  },
  "language_info": {
   "codemirror_mode": {
    "name": "ipython",
    "version": 3
   },
   "file_extension": ".py",
   "mimetype": "text/x-python",
   "name": "python",
   "nbconvert_exporter": "python",
   "pygments_lexer": "ipython3",
   "version": "3.7.6"
  }
 },
 "nbformat": 4,
 "nbformat_minor": 4
}
